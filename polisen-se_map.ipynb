{
 "cells": [
  {
   "cell_type": "markdown",
   "metadata": {},
   "source": [
    "![polis](https://polisen.se/Content/Images/polisenLogo.png)\n",
    "# Polisen.se - Get police events\n",
    "\n",
    "With this API you can get events based on _when_, _where_ and _what_, for more details [read this](https://polisen.se/om-polisen/om-webbplatsen/oppna-data/api-over-polisens-handelser/).\n",
    "\n",
    "- https://polisen.se/api\n",
    "  - [/events?locationname=Stockholm](https://polisen.se/api/events?locationname=Stockholm)\n",
    "  - [/events?type=Brand](https://polisen.se/api/events?type=Brand)\n",
    "  - [/events?DateTime=2019-04](https://polisen.se/api/events?DateTime=2019-04)\n",
    "  - [/events?DateTime=2019-04&type=Stöld&locationname=Stockholm](https://polisen.se/api/events?DateTime=2019-04&type=Stöld&locationname=Stockholm)\n",
    "    \n"
   ]
  },
  {
   "cell_type": "code",
   "execution_count": 1,
   "metadata": {},
   "outputs": [
    {
     "data": {
      "text/plain": [
       "'https://polisen.se/api/events?DateTime=2019-04&type=Stöld&locationname=Stockholm;Göteborg;Malmö;Uppsala'"
      ]
     },
     "execution_count": 1,
     "metadata": {},
     "output_type": "execute_result"
    }
   ],
   "source": [
    "from IPython.display  import JSON\n",
    "import requests\n",
    "import json\n",
    "\n",
    "baseUrl = \"https://polisen.se/api\"\n",
    "endpoint = \"/events?DateTime=2019-04&type=Stöld&locationname=Stockholm;Göteborg;Malmö;Uppsala\"\n",
    "url = baseUrl + endpoint\n",
    "url"
   ]
  },
  {
   "cell_type": "code",
   "execution_count": 6,
   "metadata": {},
   "outputs": [
    {
     "data": {
      "application/json": [
       {
        "datetime": "2019-04-08 8:22:01 +02:00",
        "id": 128559,
        "location": {
         "gps": "59.329324,18.068581",
         "name": "Stockholm"
        },
        "name": "08 april 08:22, Stöld, Stockholm",
        "summary": "Målsäganden har blivit bestulen på  en märkesväska i frukostmatsalen på ett hotell på Östermalm.",
        "type": "Stöld",
        "url": "https://polisen.se/aktuellt/handelser/2019/april/8/08-april-0822-stold-stockholm/"
       },
       {
        "datetime": "2019-04-05 16:38:29 +02:00",
        "id": 128249,
        "location": {
         "gps": "59.858564,17.638927",
         "name": "Uppsala"
        },
        "name": "05 april 16:38, Stöld, Uppsala",
        "summary": "En pojke i 15-årsåldern misstänks för stöld i en klädbutik på Svartbäcksgatan",
        "type": "Stöld",
        "url": "https://polisen.se/aktuellt/handelser/2019/april/5/05-april-1638-stold-uppsala/"
       },
       {
        "datetime": "2019-04-05 12:05:47 +02:00",
        "id": 128183,
        "location": {
         "gps": "59.329324,18.068581",
         "name": "Stockholm"
        },
        "name": "05 april 12:05, Stöld, Stockholm",
        "summary": "Polisen övertog gripandet på den man som är misstänkt för ringa stöld i matbutik i Liljeholmen. ",
        "type": "Stöld",
        "url": "https://polisen.se/aktuellt/handelser/2019/april/5/05-april-1205-stold-stockholm/"
       }
      ],
      "text/plain": [
       "<IPython.core.display.JSON object>"
      ]
     },
     "execution_count": 6,
     "metadata": {
      "application/json": {
       "expanded": false,
       "root": "root"
      }
     },
     "output_type": "execute_result"
    }
   ],
   "source": [
    "# Call the API\n",
    "req = requests.get(url)\n",
    "\n",
    "# Ensure we fail fast if the web request failed\n",
    "req.raise_for_status()\n",
    "\n",
    "data = json.loads(req.text)\n",
    "JSON(data)"
   ]
  },
  {
   "cell_type": "code",
   "execution_count": 7,
   "metadata": {},
   "outputs": [],
   "source": [
    "import pandas as pd\n",
    "from pandas.io.json import json_normalize\n",
    "\n",
    "df = json_normalize(data)"
   ]
  },
  {
   "cell_type": "code",
   "execution_count": 8,
   "metadata": {},
   "outputs": [
    {
     "data": {
      "text/html": [
       "<div>\n",
       "<style scoped>\n",
       "    .dataframe tbody tr th:only-of-type {\n",
       "        vertical-align: middle;\n",
       "    }\n",
       "\n",
       "    .dataframe tbody tr th {\n",
       "        vertical-align: top;\n",
       "    }\n",
       "\n",
       "    .dataframe thead th {\n",
       "        text-align: right;\n",
       "    }\n",
       "</style>\n",
       "<table border=\"1\" class=\"dataframe\">\n",
       "  <thead>\n",
       "    <tr style=\"text-align: right;\">\n",
       "      <th></th>\n",
       "      <th>datetime</th>\n",
       "      <th>id</th>\n",
       "      <th>location.gps</th>\n",
       "      <th>location.name</th>\n",
       "      <th>name</th>\n",
       "      <th>summary</th>\n",
       "      <th>type</th>\n",
       "      <th>url</th>\n",
       "    </tr>\n",
       "  </thead>\n",
       "  <tbody>\n",
       "    <tr>\n",
       "      <th>0</th>\n",
       "      <td>2019-04-08 8:22:01 +02:00</td>\n",
       "      <td>128559</td>\n",
       "      <td>59.329324,18.068581</td>\n",
       "      <td>Stockholm</td>\n",
       "      <td>08 april 08:22, Stöld, Stockholm</td>\n",
       "      <td>Målsäganden har blivit bestulen på  en märkesv...</td>\n",
       "      <td>Stöld</td>\n",
       "      <td>https://polisen.se/aktuellt/handelser/2019/apr...</td>\n",
       "    </tr>\n",
       "    <tr>\n",
       "      <th>1</th>\n",
       "      <td>2019-04-05 16:38:29 +02:00</td>\n",
       "      <td>128249</td>\n",
       "      <td>59.858564,17.638927</td>\n",
       "      <td>Uppsala</td>\n",
       "      <td>05 april 16:38, Stöld, Uppsala</td>\n",
       "      <td>En pojke i 15-årsåldern misstänks för stöld i ...</td>\n",
       "      <td>Stöld</td>\n",
       "      <td>https://polisen.se/aktuellt/handelser/2019/apr...</td>\n",
       "    </tr>\n",
       "    <tr>\n",
       "      <th>2</th>\n",
       "      <td>2019-04-05 12:05:47 +02:00</td>\n",
       "      <td>128183</td>\n",
       "      <td>59.329324,18.068581</td>\n",
       "      <td>Stockholm</td>\n",
       "      <td>05 april 12:05, Stöld, Stockholm</td>\n",
       "      <td>Polisen övertog gripandet på den man som är mi...</td>\n",
       "      <td>Stöld</td>\n",
       "      <td>https://polisen.se/aktuellt/handelser/2019/apr...</td>\n",
       "    </tr>\n",
       "  </tbody>\n",
       "</table>\n",
       "</div>"
      ],
      "text/plain": [
       "                     datetime      id         location.gps location.name  \\\n",
       "0   2019-04-08 8:22:01 +02:00  128559  59.329324,18.068581     Stockholm   \n",
       "1  2019-04-05 16:38:29 +02:00  128249  59.858564,17.638927       Uppsala   \n",
       "2  2019-04-05 12:05:47 +02:00  128183  59.329324,18.068581     Stockholm   \n",
       "\n",
       "                               name  \\\n",
       "0  08 april 08:22, Stöld, Stockholm   \n",
       "1    05 april 16:38, Stöld, Uppsala   \n",
       "2  05 april 12:05, Stöld, Stockholm   \n",
       "\n",
       "                                             summary   type  \\\n",
       "0  Målsäganden har blivit bestulen på  en märkesv...  Stöld   \n",
       "1  En pojke i 15-årsåldern misstänks för stöld i ...  Stöld   \n",
       "2  Polisen övertog gripandet på den man som är mi...  Stöld   \n",
       "\n",
       "                                                 url  \n",
       "0  https://polisen.se/aktuellt/handelser/2019/apr...  \n",
       "1  https://polisen.se/aktuellt/handelser/2019/apr...  \n",
       "2  https://polisen.se/aktuellt/handelser/2019/apr...  "
      ]
     },
     "execution_count": 8,
     "metadata": {},
     "output_type": "execute_result"
    }
   ],
   "source": [
    "# Show the first entries\n",
    "df.head()"
   ]
  },
  {
   "cell_type": "code",
   "execution_count": 9,
   "metadata": {},
   "outputs": [
    {
     "data": {
      "text/html": [
       "<div>\n",
       "<style scoped>\n",
       "    .dataframe tbody tr th:only-of-type {\n",
       "        vertical-align: middle;\n",
       "    }\n",
       "\n",
       "    .dataframe tbody tr th {\n",
       "        vertical-align: top;\n",
       "    }\n",
       "\n",
       "    .dataframe thead th {\n",
       "        text-align: right;\n",
       "    }\n",
       "</style>\n",
       "<table border=\"1\" class=\"dataframe\">\n",
       "  <thead>\n",
       "    <tr style=\"text-align: right;\">\n",
       "      <th></th>\n",
       "      <th>datetime</th>\n",
       "      <th>id</th>\n",
       "      <th>location.name</th>\n",
       "      <th>name</th>\n",
       "      <th>summary</th>\n",
       "      <th>type</th>\n",
       "      <th>url</th>\n",
       "      <th>Latitude</th>\n",
       "      <th>Longitude</th>\n",
       "    </tr>\n",
       "  </thead>\n",
       "  <tbody>\n",
       "    <tr>\n",
       "      <th>0</th>\n",
       "      <td>2019-04-08 8:22:01 +02:00</td>\n",
       "      <td>128559</td>\n",
       "      <td>Stockholm</td>\n",
       "      <td>08 april 08:22, Stöld, Stockholm</td>\n",
       "      <td>Målsäganden har blivit bestulen på  en märkesv...</td>\n",
       "      <td>Stöld</td>\n",
       "      <td>https://polisen.se/aktuellt/handelser/2019/apr...</td>\n",
       "      <td>59.329324</td>\n",
       "      <td>18.068581</td>\n",
       "    </tr>\n",
       "    <tr>\n",
       "      <th>1</th>\n",
       "      <td>2019-04-05 16:38:29 +02:00</td>\n",
       "      <td>128249</td>\n",
       "      <td>Uppsala</td>\n",
       "      <td>05 april 16:38, Stöld, Uppsala</td>\n",
       "      <td>En pojke i 15-årsåldern misstänks för stöld i ...</td>\n",
       "      <td>Stöld</td>\n",
       "      <td>https://polisen.se/aktuellt/handelser/2019/apr...</td>\n",
       "      <td>59.858564</td>\n",
       "      <td>17.638927</td>\n",
       "    </tr>\n",
       "    <tr>\n",
       "      <th>2</th>\n",
       "      <td>2019-04-05 12:05:47 +02:00</td>\n",
       "      <td>128183</td>\n",
       "      <td>Stockholm</td>\n",
       "      <td>05 april 12:05, Stöld, Stockholm</td>\n",
       "      <td>Polisen övertog gripandet på den man som är mi...</td>\n",
       "      <td>Stöld</td>\n",
       "      <td>https://polisen.se/aktuellt/handelser/2019/apr...</td>\n",
       "      <td>59.329324</td>\n",
       "      <td>18.068581</td>\n",
       "    </tr>\n",
       "  </tbody>\n",
       "</table>\n",
       "</div>"
      ],
      "text/plain": [
       "                     datetime      id location.name  \\\n",
       "0   2019-04-08 8:22:01 +02:00  128559     Stockholm   \n",
       "1  2019-04-05 16:38:29 +02:00  128249       Uppsala   \n",
       "2  2019-04-05 12:05:47 +02:00  128183     Stockholm   \n",
       "\n",
       "                               name  \\\n",
       "0  08 april 08:22, Stöld, Stockholm   \n",
       "1    05 april 16:38, Stöld, Uppsala   \n",
       "2  05 april 12:05, Stöld, Stockholm   \n",
       "\n",
       "                                             summary   type  \\\n",
       "0  Målsäganden har blivit bestulen på  en märkesv...  Stöld   \n",
       "1  En pojke i 15-årsåldern misstänks för stöld i ...  Stöld   \n",
       "2  Polisen övertog gripandet på den man som är mi...  Stöld   \n",
       "\n",
       "                                                 url   Latitude  Longitude  \n",
       "0  https://polisen.se/aktuellt/handelser/2019/apr...  59.329324  18.068581  \n",
       "1  https://polisen.se/aktuellt/handelser/2019/apr...  59.858564  17.638927  \n",
       "2  https://polisen.se/aktuellt/handelser/2019/apr...  59.329324  18.068581  "
      ]
     },
     "execution_count": 9,
     "metadata": {},
     "output_type": "execute_result"
    }
   ],
   "source": [
    "# Create two new columns, one Latitude and one Longitude, using data in location.gps\n",
    "df[['Latitude', 'Longitude']] = df['location.gps'].str.split(\",\", expand=True)\n",
    "# Remove the old column\n",
    "df.drop(labels='location.gps', axis=1)"
   ]
  },
  {
   "cell_type": "code",
   "execution_count": 10,
   "metadata": {},
   "outputs": [
    {
     "data": {
      "text/html": [
       "<div>\n",
       "<style scoped>\n",
       "    .dataframe tbody tr th:only-of-type {\n",
       "        vertical-align: middle;\n",
       "    }\n",
       "\n",
       "    .dataframe tbody tr th {\n",
       "        vertical-align: top;\n",
       "    }\n",
       "\n",
       "    .dataframe thead th {\n",
       "        text-align: right;\n",
       "    }\n",
       "</style>\n",
       "<table border=\"1\" class=\"dataframe\">\n",
       "  <thead>\n",
       "    <tr style=\"text-align: right;\">\n",
       "      <th></th>\n",
       "      <th>datetime</th>\n",
       "      <th>id</th>\n",
       "      <th>location.gps</th>\n",
       "      <th>location.name</th>\n",
       "      <th>name</th>\n",
       "      <th>summary</th>\n",
       "      <th>type</th>\n",
       "      <th>url</th>\n",
       "      <th>Latitude</th>\n",
       "      <th>Longitude</th>\n",
       "    </tr>\n",
       "  </thead>\n",
       "  <tbody>\n",
       "    <tr>\n",
       "      <th>0</th>\n",
       "      <td>2019-04-08 8:22:01 +02:00</td>\n",
       "      <td>128559</td>\n",
       "      <td>59.329324,18.068581</td>\n",
       "      <td>Stockholm</td>\n",
       "      <td>08 april 08:22, Stöld, Stockholm</td>\n",
       "      <td>Målsäganden har blivit bestulen på  en märkesv...</td>\n",
       "      <td>Stöld</td>\n",
       "      <td>https://polisen.se/aktuellt/handelser/2019/apr...</td>\n",
       "      <td>59.329324</td>\n",
       "      <td>18.068581</td>\n",
       "    </tr>\n",
       "    <tr>\n",
       "      <th>1</th>\n",
       "      <td>2019-04-05 16:38:29 +02:00</td>\n",
       "      <td>128249</td>\n",
       "      <td>59.858564,17.638927</td>\n",
       "      <td>Uppsala</td>\n",
       "      <td>05 april 16:38, Stöld, Uppsala</td>\n",
       "      <td>En pojke i 15-årsåldern misstänks för stöld i ...</td>\n",
       "      <td>Stöld</td>\n",
       "      <td>https://polisen.se/aktuellt/handelser/2019/apr...</td>\n",
       "      <td>59.858564</td>\n",
       "      <td>17.638927</td>\n",
       "    </tr>\n",
       "    <tr>\n",
       "      <th>2</th>\n",
       "      <td>2019-04-05 12:05:47 +02:00</td>\n",
       "      <td>128183</td>\n",
       "      <td>59.329324,18.068581</td>\n",
       "      <td>Stockholm</td>\n",
       "      <td>05 april 12:05, Stöld, Stockholm</td>\n",
       "      <td>Polisen övertog gripandet på den man som är mi...</td>\n",
       "      <td>Stöld</td>\n",
       "      <td>https://polisen.se/aktuellt/handelser/2019/apr...</td>\n",
       "      <td>59.329324</td>\n",
       "      <td>18.068581</td>\n",
       "    </tr>\n",
       "  </tbody>\n",
       "</table>\n",
       "</div>"
      ],
      "text/plain": [
       "                     datetime      id         location.gps location.name  \\\n",
       "0   2019-04-08 8:22:01 +02:00  128559  59.329324,18.068581     Stockholm   \n",
       "1  2019-04-05 16:38:29 +02:00  128249  59.858564,17.638927       Uppsala   \n",
       "2  2019-04-05 12:05:47 +02:00  128183  59.329324,18.068581     Stockholm   \n",
       "\n",
       "                               name  \\\n",
       "0  08 april 08:22, Stöld, Stockholm   \n",
       "1    05 april 16:38, Stöld, Uppsala   \n",
       "2  05 april 12:05, Stöld, Stockholm   \n",
       "\n",
       "                                             summary   type  \\\n",
       "0  Målsäganden har blivit bestulen på  en märkesv...  Stöld   \n",
       "1  En pojke i 15-årsåldern misstänks för stöld i ...  Stöld   \n",
       "2  Polisen övertog gripandet på den man som är mi...  Stöld   \n",
       "\n",
       "                                                 url   Latitude  Longitude  \n",
       "0  https://polisen.se/aktuellt/handelser/2019/apr...  59.329324  18.068581  \n",
       "1  https://polisen.se/aktuellt/handelser/2019/apr...  59.858564  17.638927  \n",
       "2  https://polisen.se/aktuellt/handelser/2019/apr...  59.329324  18.068581  "
      ]
     },
     "execution_count": 10,
     "metadata": {},
     "output_type": "execute_result"
    }
   ],
   "source": [
    "# Show us the first few rows only \n",
    "df.head()"
   ]
  },
  {
   "cell_type": "code",
   "execution_count": 11,
   "metadata": {},
   "outputs": [
    {
     "data": {
      "text/plain": [
       "Stöld    3\n",
       "Name: type, dtype: int64"
      ]
     },
     "execution_count": 11,
     "metadata": {},
     "output_type": "execute_result"
    }
   ],
   "source": [
    "df[\"type\"].value_counts()"
   ]
  },
  {
   "cell_type": "code",
   "execution_count": 12,
   "metadata": {},
   "outputs": [
    {
     "data": {
      "text/plain": [
       "location.name  type \n",
       "Stockholm      Stöld    2\n",
       "Uppsala        Stöld    1\n",
       "dtype: int64"
      ]
     },
     "execution_count": 12,
     "metadata": {},
     "output_type": "execute_result"
    }
   ],
   "source": [
    "df.groupby([\"location.name\", \"type\"]).size()"
   ]
  },
  {
   "cell_type": "code",
   "execution_count": 13,
   "metadata": {},
   "outputs": [
    {
     "data": {
      "text/plain": [
       "type   location.name\n",
       "Stöld  Stockholm        2\n",
       "       Uppsala          1\n",
       "dtype: int64"
      ]
     },
     "execution_count": 13,
     "metadata": {},
     "output_type": "execute_result"
    }
   ],
   "source": [
    "df.groupby([\"type\", \"location.name\"]).size()"
   ]
  },
  {
   "cell_type": "markdown",
   "metadata": {},
   "source": [
    "![polis](https://polisen.se/Content/Images/polisenLogo.png)\n",
    "# Policestation API\n",
    "see  about [api-over-polisstationer](https://polisen.se/om-polisen/om-webbplatsen/oppna-data/api-over-polisstationer/)"
   ]
  },
  {
   "cell_type": "code",
   "execution_count": 2,
   "metadata": {},
   "outputs": [
    {
     "data": {
      "text/plain": [
       "'https://polisen.se/api/policestations'"
      ]
     },
     "execution_count": 2,
     "metadata": {},
     "output_type": "execute_result"
    }
   ],
   "source": [
    "baseUrl = \"https://polisen.se/api\"\n",
    "endpoint = \"/policestations\"\n",
    "urlPolisStation= baseUrl + endpoint\n",
    "urlPolisStation\n"
   ]
  },
  {
   "cell_type": "code",
   "execution_count": 3,
   "metadata": {},
   "outputs": [
    {
     "data": {
      "application/json": [
       {
        "Url": "https://polisen.se/kontakt/polisstationer/vastra-gotaland/alingsas/",
        "id": 1233,
        "location": {
         "gps": "57.930105,12.529608",
         "name": "N Strömgatan 8, Alingsås"
        },
        "name": "Alingsås",
        "services": [
         {
          "name": "Anmälan"
         },
         {
          "name": "Cyklar"
         },
         {
          "name": "Hittegods"
         },
         {
          "name": "Pass/nationellt id-kort"
         },
         {
          "name": "Vapen"
         }
        ]
       },
       {
        "Url": "https://polisen.se/kontakt/polisstationer/kronoberg/alvesta/",
        "id": 811,
        "location": {
         "gps": "56.900514,14.555233",
         "name": "Värendsgatan 14, Alvesta"
        },
        "name": "Alvesta",
        "services": [
         {
          "name": "Anmälan"
         },
         {
          "name": "Hittegods"
         }
        ]
       },
       {
        "Url": "https://polisen.se/kontakt/polisstationer/jonkopings-lan/aneby/",
        "id": 7519,
        "location": {
         "gps": "57.836076,14.807909",
         "name": "Stigbergsvägen 11, Aneby"
        },
        "name": "Aneby",
        "services": [
         {
          "name": "Anmälan"
         },
         {
          "name": "Hittegods"
         }
        ]
       },
       {
        "Url": "https://polisen.se/kontakt/polisstationer/vastmanland/arboga/",
        "id": 1216,
        "location": {
         "gps": "59.39417,15.840519",
         "name": "Järntorget 8, Arboga"
        },
        "name": "Arboga",
        "services": [
         {
          "name": "Anmälan"
         },
         {
          "name": "Hittegods"
         },
         {
          "name": "Tillstånd"
         }
        ]
       },
       {
        "Url": "https://polisen.se/kontakt/polisstationer/norrbotten/arjeplog/",
        "id": 832,
        "location": {
         "gps": "66.052216,17.893128",
         "name": "Tingsbacka, Storgatan 20   , Arjeplog"
        },
        "name": "Arjeplog",
        "services": [
         {
          "name": "Anmälan"
         },
         {
          "name": "Cyklar"
         },
         {
          "name": "Hittegods"
         }
        ]
       },
       {
        "Url": "https://polisen.se/kontakt/polisstationer/norrbotten/arvidsjaur/",
        "id": 834,
        "location": {
         "gps": "65.593781,19.160384",
         "name": "Östra Kyrkogatan 1, Arvidsjaur"
        },
        "name": "Arvidsjaur",
        "services": [
         {
          "name": "Anmälan"
         },
         {
          "name": "Cyklar"
         },
         {
          "name": "Hittegods"
         },
         {
          "name": "Pass/nationellt id-kort"
         }
        ]
       },
       {
        "Url": "https://polisen.se/kontakt/polisstationer/varmland/arvika/",
        "id": 1128,
        "location": {
         "gps": "59.653932,12.602657",
         "name": "Styckåsgatan 10-12, Arvika"
        },
        "name": "Arvika",
        "services": [
         {
          "name": "Anmälan"
         },
         {
          "name": "Hittegods"
         },
         {
          "name": "Pass/nationellt id-kort"
         },
         {
          "name": "Vapen"
         }
        ]
       },
       {
        "Url": "https://polisen.se/kontakt/polisstationer/orebro-lan/askersund/",
        "id": 1321,
        "location": {
         "gps": "58.879601,14.905849",
         "name": "Lilla Bergsgatan 12 B, Askersund"
        },
        "name": "Askersund",
        "services": [
         {
          "name": "Anmälan"
         },
         {
          "name": "Pass/nationellt id-kort"
         }
        ]
       },
       {
        "Url": "https://polisen.se/kontakt/polisstationer/dalarna/avesta/",
        "id": 674,
        "location": {
         "gps": "60.146648,16.163744",
         "name": "Kungsgatan 42, Avesta"
        },
        "name": "Avesta",
        "services": [
         {
          "name": "Anmälan"
         },
         {
          "name": "Cyklar"
         },
         {
          "name": "Hittegods"
         },
         {
          "name": "Pass/nationellt id-kort"
         },
         {
          "name": "Tillstånd"
         },
         {
          "name": "Vapen"
         }
        ]
       },
       {
        "Url": "https://polisen.se/kontakt/polisstationer/vastra-gotaland/bengtsfors/",
        "id": 1235,
        "location": {
         "gps": "59.031614,12.219173",
         "name": "Storgatan 42, Bengtsfors"
        },
        "name": "Bengtsfors",
        "services": [
         {
          "name": "Anmälan"
         }
        ]
       },
       {
        "Url": "https://polisen.se/kontakt/polisstationer/vasterbotten/bjurholm/",
        "id": 1163,
        "location": {
         "gps": "63.929735,19.2119135",
         "name": "Storgatan 9, 916 31 Bjurholm"
        },
        "name": "Bjurholm",
        "services": [
         {
          "name": "Anmälan"
         },
         {
          "name": "Hittegods"
         },
         {
          "name": "Tillstånd"
         }
        ]
       },
       {
        "Url": "https://polisen.se/kontakt/polisstationer/skane/bjuv/",
        "id": 879,
        "location": {
         "gps": "56.08384,12.911404",
         "name": "Bangatan 1, Bjuv"
        },
        "name": "Bjuv",
        "services": [
         {
          "name": "Anmälan"
         },
         {
          "name": "Cyklar"
         },
         {
          "name": "Hittegods"
         },
         {
          "name": "Vapen"
         }
        ]
       },
       {
        "Url": "https://polisen.se/kontakt/polisstationer/norrbotten/boden/",
        "id": 836,
        "location": {
         "gps": "65.824986,21.698839",
         "name": "Garnisonsgatan 6 A, Boden"
        },
        "name": "Boden",
        "services": [
         {
          "name": "Anmälan"
         },
         {
          "name": "Cyklar"
         },
         {
          "name": "Hittegods"
         },
         {
          "name": "Pass/nationellt id-kort"
         },
         {
          "name": "Vapen"
         }
        ]
       },
       {
        "Url": "https://polisen.se/kontakt/polisstationer/vastra-gotaland/bollebygd/",
        "id": 1237,
        "location": {
         "gps": "57.669572,12.57078",
         "name": "Kommunalhuset, Ballebovägen 2, Bollebygd"
        },
        "name": "Bollebygd",
        "services": []
       },
       {
        "Url": "https://polisen.se/kontakt/polisstationer/gavleborg/bollnas/",
        "id": 714,
        "location": {
         "gps": "61.349777,16.397383",
         "name": "Långgatan 32, Bollnäs"
        },
        "name": "Bollnäs",
        "services": [
         {
          "name": "Anmälan"
         },
         {
          "name": "Hittegods"
         },
         {
          "name": "Pass/nationellt id-kort"
         },
         {
          "name": "Tillstånd"
         }
        ]
       },
       {
        "Url": "https://polisen.se/kontakt/polisstationer/kalmar-lan/borgholm/",
        "id": 788,
        "location": {
         "gps": "56.877094,16.66179",
         "name": "Stenbergsgatan 4, Borgholm"
        },
        "name": "Borgholm",
        "services": [
         {
          "name": "Anmälan"
         },
         {
          "name": "Cyklar"
         },
         {
          "name": "Hittegods"
         }
        ]
       },
       {
        "Url": "https://polisen.se/kontakt/polisstationer/dalarna/borlange/",
        "id": 676,
        "location": {
         "gps": "60.485958,15.435876",
         "name": "Wallintorget 9, Borlänge"
        },
        "name": "Borlänge",
        "services": [
         {
          "name": "Anmälan"
         },
         {
          "name": "Cyklar"
         },
         {
          "name": "Hittegods"
         },
         {
          "name": "Pass/nationellt id-kort"
         },
         {
          "name": "Tillstånd"
         },
         {
          "name": "Vapen"
         }
        ]
       },
       {
        "Url": "https://polisen.se/kontakt/polisstationer/vastra-gotaland/boras/",
        "id": 1239,
        "location": {
         "gps": "57.72363,12.941762",
         "name": "Sandgärdsgatan 15, Borås"
        },
        "name": "Borås",
        "services": [
         {
          "name": "Anmälan"
         },
         {
          "name": "Hittegods"
         },
         {
          "name": "Pass/nationellt id-kort"
         },
         {
          "name": "Vapen"
         }
        ]
       },
       {
        "Url": "https://polisen.se/kontakt/polisstationer/stockholms-lan/stockholm-syd/botkyrka/",
        "id": 1038,
        "location": {
         "gps": "59.198881,17.828193",
         "name": "Doktorsvägen 3, Tumba "
        },
        "name": "Botkyrka",
        "services": [
         {
          "name": "Anmälan"
         },
         {
          "name": "Hittegods"
         },
         {
          "name": "Vapen"
         }
        ]
       },
       {
        "Url": "https://polisen.se/kontakt/polisstationer/ostergotland/boxholm/",
        "id": 1346,
        "location": {
         "gps": "58.19697,15.0524",
         "name": "Storgatan 20, Boxholm"
        },
        "name": "Boxholm",
        "services": [
         {
          "name": "Anmälan"
         }
        ]
       },
       {
        "Url": "https://polisen.se/kontakt/polisstationer/skane/broby/",
        "id": 881,
        "location": {
         "gps": "56.252607,14.078057",
         "name": "Köpmannagatan 7, Broby"
        },
        "name": "Broby",
        "services": [
         {
          "name": "Anmälan"
         },
         {
          "name": "Cyklar"
         },
         {
          "name": "Hittegods"
         }
        ]
       },
       {
        "Url": "https://polisen.se/kontakt/polisstationer/skane/bromolla/",
        "id": 883,
        "location": {
         "gps": "56.072579,14.465935",
         "name": "Fågel Fenix väg 3, Bromölla"
        },
        "name": "Bromölla",
        "services": [
         {
          "name": "Anmälan"
         }
        ]
       },
       {
        "Url": "https://polisen.se/kontakt/polisstationer/skane/burlov/",
        "id": 885,
        "location": {
         "gps": "55.633394,13.070579",
         "name": "Kärleksgatan 6, Arlöv"
        },
        "name": "Burlöv",
        "services": [
         {
          "name": "Anmälan"
         }
        ]
       },
       {
        "Url": "https://polisen.se/kontakt/polisstationer/uppsala-lan/balsta/",
        "id": 1102,
        "location": {
         "gps": "59.566631,17.531596",
         "name": "Centrumstråket 1, Bålsta"
        },
        "name": "Bålsta",
        "services": [
         {
          "name": "Anmälan"
         },
         {
          "name": "Cyklar"
         },
         {
          "name": "Hittegods"
         },
         {
          "name": "Pass/nationellt id-kort"
         },
         {
          "name": "Tillstånd"
         }
        ]
       },
       {
        "Url": "https://polisen.se/kontakt/polisstationer/skane/bastad/",
        "id": 887,
        "location": {
         "gps": "56.426418,12.846166",
         "name": "Vångavägen 2, Båstad"
        },
        "name": "Båstad",
        "services": [
         {
          "name": "Anmälan"
         },
         {
          "name": "Cyklar"
         },
         {
          "name": "Hittegods"
         }
        ]
       },
       {
        "Url": "https://polisen.se/kontakt/polisstationer/skane/dalby-/",
        "id": 889,
        "location": {
         "gps": "55.665674,13.358038",
         "name": "Hällestadvägen 182, Dalby"
        },
        "name": "Dalby ",
        "services": [
         {
          "name": "Anmälan"
         },
         {
          "name": "Cyklar"
         },
         {
          "name": "Hittegods"
         }
        ]
       },
       {
        "Url": "https://polisen.se/kontakt/polisstationer/stockholms-lan/stockholm-nord/danderyd-omradeskontor/",
        "id": 89826,
        "location": {
         "gps": "59.3978717,18.0366457",
         "name": "Mörby centrum, Informationscenter, "
        },
        "name": "Danderyd områdeskontor",
        "services": []
       },
       {
        "Url": "https://polisen.se/kontakt/polisstationer/orebro-lan/degerfors/",
        "id": 1323,
        "location": {
         "gps": "59.238016,14.43365",
         "name": "Medborgargatan 16 B, Degerfors"
        },
        "name": "Degerfors",
        "services": [
         {
          "name": "Anmälan"
         }
        ]
       },
       {
        "Url": "https://polisen.se/kontakt/polisstationer/vasterbotten/dorotea/",
        "id": 1165,
        "location": {
         "gps": "64.261558,16.410731",
         "name": "Storgatan 33, 917 32 Dorotea"
        },
        "name": "Dorotea",
        "services": [
         {
          "name": "Anmälan"
         },
         {
          "name": "Hittegods"
         },
         {
          "name": "Tillstånd"
         },
         {
          "name": "Vapen"
         }
        ]
       },
       {
        "Url": "https://polisen.se/kontakt/polisstationer/varmland/eda/",
        "id": 1130,
        "location": {
         "gps": "59.883427,12.302679",
         "name": "Postgatan 10, Charlottenberg"
        },
        "name": "Eda",
        "services": [
         {
          "name": "Anmälan"
         },
         {
          "name": "Hittegods"
         }
        ]
       },
       {
        "Url": "https://polisen.se/kontakt/polisstationer/stockholms-lan/stockholm-nord/ekero/",
        "id": 989,
        "location": {
         "gps": "59.2914964,17.807675",
         "name": "Kommunhuset, Tappströmsvägen 2, Ekerö"
        },
        "name": "Ekerö områdeskontor",
        "services": [
         {
          "name": "Anmälan"
         }
        ]
       },
       {
        "Url": "https://polisen.se/kontakt/polisstationer/jonkopings-lan/eksjo/",
        "id": 771,
        "location": {
         "gps": "57.659283,14.960808",
         "name": "Mosstegsgatan 2, Eksjö"
        },
        "name": "Eksjö",
        "services": [
         {
          "name": "Anmälan"
         },
         {
          "name": "Cyklar"
         },
         {
          "name": "Hittegods"
         },
         {
          "name": "Pass/nationellt id-kort"
         }
        ]
       },
       {
        "Url": "https://polisen.se/kontakt/polisstationer/kalmar-lan/emmaboda/",
        "id": 790,
        "location": {
         "gps": "56.630452,15.53336",
         "name": "Järnvägsgatan 41, Emmaboda"
        },
        "name": "Emmaboda",
        "services": [
         {
          "name": "Anmälan"
         },
         {
          "name": "Hittegods"
         }
        ]
       },
       {
        "Url": "https://polisen.se/kontakt/polisstationer/uppsala-lan/enkoping/",
        "id": 1104,
        "location": {
         "gps": "59.636833,17.083393",
         "name": "Korsängsgatan 42, Enköping"
        },
        "name": "Enköping",
        "services": [
         {
          "name": "Anmälan"
         },
         {
          "name": "Cyklar"
         },
         {
          "name": "Hittegods"
         },
         {
          "name": "Pass/nationellt id-kort"
         },
         {
          "name": "Tillstånd"
         }
        ]
       },
       {
        "Url": "https://polisen.se/kontakt/polisstationer/sodermanland/eskilstuna/",
        "id": 1080,
        "location": {
         "gps": "59.368893,16.515372",
         "name": "Nygatan 4, Eskilstuna"
        },
        "name": "Eskilstuna",
        "services": [
         {
          "name": "Anmälan"
         },
         {
          "name": "Beslag"
         },
         {
          "name": "Cyklar"
         },
         {
          "name": "Hittegods"
         },
         {
          "name": "Pass/nationellt id-kort"
         }
        ]
       },
       {
        "Url": "https://polisen.se/kontakt/polisstationer/skane/eslov/",
        "id": 891,
        "location": {
         "gps": "55.830099,13.309147",
         "name": "Ellingevägen 14, Eslöv"
        },
        "name": "Eslöv",
        "services": [
         {
          "name": "Anmälan"
         },
         {
          "name": "Cyklar"
         },
         {
          "name": "Hittegods"
         }
        ]
       },
       {
        "Url": "https://polisen.se/kontakt/polisstationer/vastmanland/fagersta/",
        "id": 1218,
        "location": {
         "gps": "60.003667,15.799268",
         "name": "Daliavägen 5, Fagersta"
        },
        "name": "Fagersta",
        "services": [
         {
          "name": "Anmälan"
         },
         {
          "name": "Hittegods"
         },
         {
          "name": "Pass/nationellt id-kort"
         },
         {
          "name": "Tillstånd"
         },
         {
          "name": "Vapen"
         }
        ]
       },
       {
        "Url": "https://polisen.se/kontakt/polisstationer/halland/falkenberg/",
        "id": 735,
        "location": {
         "gps": "56.90625,12.488467",
         "name": "Arvidstorpsv 14-16, Falkenberg"
        },
        "name": "Falkenberg",
        "services": [
         {
          "name": "Anmälan"
         },
         {
          "name": "Cyklar"
         },
         {
          "name": "Hittegods"
         },
         {
          "name": "Pass/nationellt id-kort"
         },
         {
          "name": "Tillstånd"
         }
        ]
       },
       {
        "Url": "https://polisen.se/kontakt/polisstationer/vastra-gotaland/falkoping/",
        "id": 1241,
        "location": {
         "gps": "58.161282,13.558324",
         "name": "Trädgårdsgatan 41, Falköping"
        },
        "name": "Falköping",
        "services": [
         {
          "name": "Anmälan"
         },
         {
          "name": "Hittegods"
         },
         {
          "name": "Pass/nationellt id-kort"
         }
        ]
       },
       {
        "Url": "https://polisen.se/kontakt/polisstationer/dalarna/falun/",
        "id": 678,
        "location": {
         "gps": "60.606778,15.625906",
         "name": "Kristinegatan 26, Falun"
        },
        "name": "Falun",
        "services": [
         {
          "name": "Anmälan"
         },
         {
          "name": "Cyklar"
         },
         {
          "name": "Hittegods"
         },
         {
          "name": "Tillstånd"
         }
        ]
       },
       {
        "Url": "https://polisen.se/kontakt/polisstationer/stockholms-lan/stockholm-syd/farsta/",
        "id": 1032,
        "location": {
         "gps": "59.241478,18.094104",
         "name": "Storforsplan 36, 8 tr, Farsta"
        },
        "name": "Farsta",
        "services": [
         {
          "name": "Anmälan"
         },
         {
          "name": "Hittegods"
         }
        ]
       },
       {
        "Url": "https://polisen.se/kontakt/polisstationer/varmland/filipstad/",
        "id": 1132,
        "location": {
         "gps": "59.712668,14.170511",
         "name": "Viktoriagatan 6, Filipstad"
        },
        "name": "Filipstad",
        "services": [
         {
          "name": "Anmälan"
         },
         {
          "name": "Hittegods"
         },
         {
          "name": "Pass/nationellt id-kort"
         }
        ]
       },
       {
        "Url": "https://polisen.se/kontakt/polisstationer/ostergotland/finspang/",
        "id": 1348,
        "location": {
         "gps": "58.707826,15.776457",
         "name": "Stationsvägen 3, Finspång"
        },
        "name": "Finspång",
        "services": [
         {
          "name": "Anmälan"
         },
         {
          "name": "Beslag"
         },
         {
          "name": "Hittegods"
         },
         {
          "name": "Tillstånd"
         },
         {
          "name": "Vapen"
         }
        ]
       },
       {
        "Url": "https://polisen.se/kontakt/polisstationer/stockholms-lan/stockholm-syd/flemingsberg/",
        "id": 1050,
        "location": {
         "gps": "59.217061,17.94709",
         "name": "Björnkullavägen 9, Flemingsberg"
        },
        "name": "Flemingsberg",
        "services": [
         {
          "name": "Anmälan"
         },
         {
          "name": "Beslag"
         },
         {
          "name": "Hittegods"
         },
         {
          "name": "Pass/nationellt id-kort"
         },
         {
          "name": "Vapen"
         }
        ]
       },
       {
        "Url": "https://polisen.se/kontakt/polisstationer/sodermanland/flen/",
        "id": 1083,
        "location": {
         "gps": "59.055743,16.589667",
         "name": "Sveavägen 1, Flen "
        },
        "name": "Flen",
        "services": [
         {
          "name": "Anmälan"
         }
        ]
       },
       {
        "Url": "https://polisen.se/kontakt/polisstationer/varmland/forshaga/",
        "id": 1134,
        "location": {
         "gps": "59.530471,13.479465",
         "name": "Esplanaden 5, Forshaga"
        },
        "name": "Forshaga",
        "services": [
         {
          "name": "Anmälan"
         },
         {
          "name": "Hittegods"
         }
        ]
       },
       {
        "Url": "https://polisen.se/kontakt/polisstationer/jamtland/funasdalen/",
        "id": 752,
        "location": {
         "gps": "62.544768,12.546411",
         "name": "Rörosvägen 12, Funäsdalen"
        },
        "name": "Funäsdalen",
        "services": [
         {
          "name": "Anmälan"
         },
         {
          "name": "Cyklar"
         },
         {
          "name": "Hittegods"
         },
         {
          "name": "Pass/nationellt id-kort"
         },
         {
          "name": "Tillstånd"
         },
         {
          "name": "Vapen"
         }
        ]
       },
       {
        "Url": "https://polisen.se/kontakt/polisstationer/dalarna/gagnef/",
        "id": 680,
        "location": {
         "gps": "60.559788,15.133806",
         "name": "Kommunhuset, Färjbacksvägen 5, Djurås"
        },
        "name": "Gagnef",
        "services": [
         {
          "name": "Anmälan"
         },
         {
          "name": "Hittegods"
         },
         {
          "name": "Tillstånd"
         }
        ]
       },
       {
        "Url": "https://polisen.se/kontakt/polisstationer/jonkopings-lan/gislaved/",
        "id": 773,
        "location": {
         "gps": "57.295225,13.565552",
         "name": "Weland Industricentrum, Anderstorpsvägen 24, Gislaved"
        },
        "name": "Gislaved",
        "services": [
         {
          "name": "Anmälan"
         },
         {
          "name": "Hittegods"
         }
        ]
       },
       {
        "Url": "https://polisen.se/kontakt/polisstationer/stockholms-lan/stockholm-syd/globen/",
        "id": 1053,
        "location": {
         "gps": "59.2921974,18.0817704",
         "name": "Arenavägen 63, "
        },
        "name": "Globen",
        "services": [
         {
          "name": "Anmälan"
         },
         {
          "name": "Hittegods"
         },
         {
          "name": "Pass/nationellt id-kort"
         }
        ]
       },
       {
        "Url": "https://polisen.se/kontakt/polisstationer/sodermanland/gnesta/",
        "id": 1085,
        "location": {
         "gps": "59.04793,17.310531",
         "name": "Medborgarkontoret, Marieströmsgatan 3, Gnesta"
        },
        "name": "Gnesta",
        "services": [
         {
          "name": "Anmälan"
         },
         {
          "name": "Hittegods"
         }
        ]
       },
       {
        "Url": "https://polisen.se/kontakt/polisstationer/varmland/grums/",
        "id": 1136,
        "location": {
         "gps": "59.351525,13.111032",
         "name": "Sveagatan 77, Grums"
        },
        "name": "Grums",
        "services": [
         {
          "name": "Anmälan"
         },
         {
          "name": "Hittegods"
         }
        ]
       },
       {
        "Url": "https://polisen.se/kontakt/polisstationer/norrbotten/gallivare/",
        "id": 838,
        "location": {
         "gps": "67.132138,20.663296",
         "name": "Lasarettsgatan 20, Gällivare"
        },
        "name": "Gällivare",
        "services": [
         {
          "name": "Anmälan"
         },
         {
          "name": "Cyklar"
         },
         {
          "name": "Hittegods"
         },
         {
          "name": "Pass/nationellt id-kort"
         }
        ]
       },
       {
        "Url": "https://polisen.se/kontakt/polisstationer/gavleborg/gavle/",
        "id": 716,
        "location": {
         "gps": "60.674199,17.150824",
         "name": "Södra Centralgatan 1, Gävle"
        },
        "name": "Gävle",
        "services": [
         {
          "name": "Anmälan"
         },
         {
          "name": "Hittegods"
         },
         {
          "name": "Pass/nationellt id-kort"
         },
         {
          "name": "Tillstånd"
         }
        ]
       },
       {
        "Url": "https://polisen.se/kontakt/polisstationer/vastra-gotaland/goteborg-city/",
        "id": 1243,
        "location": {
         "gps": "57.707694,11.983464",
         "name": "Stampgatan 28, Göteborg"
        },
        "name": "Göteborg City",
        "services": [
         {
          "name": "Anmälan"
         },
         {
          "name": "Delgivning"
         },
         {
          "name": "Hittegods"
         }
        ]
       },
       {
        "Url": "https://polisen.se/kontakt/polisstationer/vastra-gotaland/goteborg-delgivningscentralen/",
        "id": 1245,
        "location": {
         "gps": "57.707694,11.983464",
         "name": "Stampgatan 28, Göteborg"
        },
        "name": "Göteborg Delgivningscentralen",
        "services": []
       },
       {
        "Url": "https://polisen.se/kontakt/polisstationer/vastra-gotaland/goteborg-hisingen/",
        "id": 1247,
        "location": {
         "gps": "57.719859,11.945917",
         "name": "Vågmästaregatan 5, Göteborg"
        },
        "name": "Göteborg Hisingen",
        "services": [
         {
          "name": "Anmälan"
         },
         {
          "name": "Hittegods"
         }
        ]
       },
       {
        "Url": "https://polisen.se/kontakt/polisstationer/vastra-gotaland/goteborg-hittegodscentralen/",
        "id": 1249,
        "location": {
         "gps": "57.70959,11.983729",
         "name": "Odinsgatan 28 B, Göteborg"
        },
        "name": "Göteborg Hittegodscentralen",
        "services": [
         {
          "name": "Cyklar"
         },
         {
          "name": "Hittegods"
         }
        ]
       },
       {
        "Url": "https://polisen.se/kontakt/polisstationer/vastra-gotaland/goteborg-landvetter-/",
        "id": 1251,
        "location": {
         "gps": "57.668799,12.292314",
         "name": "Landvetter Flygplats, Landvetter"
        },
        "name": "Göteborg Landvetter ",
        "services": [
         {
          "name": "Provisoriskt pass"
         }
        ]
       },
       {
        "Url": "https://polisen.se/kontakt/polisstationer/vastra-gotaland/goteborg-nordost/",
        "id": 1253,
        "location": {
         "gps": "57.772206,12.028801",
         "name": "Hjällbo Lillgata 1, Göteborg"
        },
        "name": "Göteborg Nordost Hjällbo",
        "services": [
         {
          "name": "Anmälan"
         },
         {
          "name": "Hittegods"
         }
        ]
       },
       {
        "Url": "https://polisen.se/kontakt/polisstationer/vastra-gotaland/goteborg-passcentralen/",
        "id": 1255,
        "location": {
         "gps": "57.707694,11.983845",
         "name": "Stampgatan 34, Göteborg"
        },
        "name": "Göteborg Passcentralen",
        "services": [
         {
          "name": "Pass/nationellt id-kort"
         },
         {
          "name": "Provisoriskt pass"
         }
        ]
       },
       {
        "Url": "https://polisen.se/kontakt/polisstationer/vastra-gotaland/goteborg-polishuset/",
        "id": 8106,
        "location": {
         "gps": "57.705298,11.982956",
         "name": "Ernst Fontells plats, Göteborg"
        },
        "name": "Göteborg Polishuset",
        "services": [
         {
          "name": "Anmälan"
         }
        ]
       },
       {
        "Url": "https://polisen.se/kontakt/polisstationer/vastra-gotaland/gotene/",
        "id": 1259,
        "location": {
         "gps": "58.527339,13.493157",
         "name": "Centrumhuset, Doktorsvägen 3, Götene"
        },
        "name": "Götene",
        "services": []
       },
       {
        "Url": "https://polisen.se/kontakt/polisstationer/varmland/hagfors/",
        "id": 1138,
        "location": {
         "gps": "60.030174,13.701198",
         "name": "Dalavägen 6-8, Hagfors"
        },
        "name": "Hagfors",
        "services": [
         {
          "name": "Anmälan"
         },
         {
          "name": "Hittegods"
         },
         {
          "name": "Pass/nationellt id-kort"
         },
         {
          "name": "Vapen"
         }
        ]
       },
       {
        "Url": "https://polisen.se/kontakt/polisstationer/orebro-lan/hallsberg/",
        "id": 1325,
        "location": {
         "gps": "59.065917,15.107341",
         "name": "Västra Storgatan 6-8, Hallsberg"
        },
        "name": "Hallsberg",
        "services": [
         {
          "name": "Anmälan"
         },
         {
          "name": "Pass/nationellt id-kort"
         }
        ]
       },
       {
        "Url": "https://polisen.se/kontakt/polisstationer/vastmanland/hallstahammar/",
        "id": 1220,
        "location": {
         "gps": "59.614113,16.228792",
         "name": "Hammartorget 7B, Hallstahammar"
        },
        "name": "Hallstahammar",
        "services": [
         {
          "name": "Anmälan"
         },
         {
          "name": "Hittegods"
         },
         {
          "name": "Tillstånd"
         }
        ]
       },
       {
        "Url": "https://polisen.se/kontakt/polisstationer/stockholms-lan/stockholm-nord/hallstavik/",
        "id": 1004,
        "location": {
         "gps": "60.052645,18.595913",
         "name": "Stationsvägen 3, Hallstavik"
        },
        "name": "Hallstavik",
        "services": [
         {
          "name": "Anmälan"
         },
         {
          "name": "Hittegods"
         }
        ]
       },
       {
        "Url": "https://polisen.se/kontakt/polisstationer/halland/halmstad/",
        "id": 737,
        "location": {
         "gps": "56.678382,12.855126",
         "name": "Norra Källegatan 3, Halmstad"
        },
        "name": "Halmstad",
        "services": [
         {
          "name": "Anmälan"
         },
         {
          "name": "Hittegods"
         },
         {
          "name": "Pass/nationellt id-kort"
         },
         {
          "name": "Tillstånd"
         }
        ]
       },
       {
        "Url": "https://polisen.se/kontakt/polisstationer/varmland/hammaro/",
        "id": 1140,
        "location": {
         "gps": "59.3233043,13.4664318",
         "name": "Skomakargränd 1, Skoghall"
        },
        "name": "Hammarö",
        "services": [
         {
          "name": "Anmälan"
         },
         {
          "name": "Hittegods"
         }
        ]
       },
       {
        "Url": "https://polisen.se/kontakt/polisstationer/stockholms-lan/stockholm-syd/haninge/",
        "id": 1059,
        "location": {
         "gps": "59.169713,18.140736",
         "name": "Runstensvägen 3, Handen"
        },
        "name": "Haninge",
        "services": [
         {
          "name": "Anmälan"
         },
         {
          "name": "Hittegods"
         },
         {
          "name": "Pass/nationellt id-kort"
         },
         {
          "name": "Vapen"
         }
        ]
       },
       {
        "Url": "https://polisen.se/kontakt/polisstationer/norrbotten/haparanda/",
        "id": 840,
        "location": {
         "gps": "65.837982,24.140597",
         "name": "Strandgatan 10, Haparanda"
        },
        "name": "Haparanda",
        "services": [
         {
          "name": "Anmälan"
         },
         {
          "name": "Cyklar"
         },
         {
          "name": "Hittegods"
         },
         {
          "name": "Pass/nationellt id-kort"
         }
        ]
       },
       {
        "Url": "https://polisen.se/kontakt/polisstationer/uppsala-lan/heby/",
        "id": 1106,
        "location": {
         "gps": "59.941584,16.858946",
         "name": "Kapellgatan 2, Heby"
        },
        "name": "Heby",
        "services": [
         {
          "name": "Anmälan"
         },
         {
          "name": "Hittegods"
         }
        ]
       },
       {
        "Url": "https://polisen.se/kontakt/polisstationer/skane/helsingborg/",
        "id": 893,
        "location": {
         "gps": "56.063879,12.712355",
         "name": "Berga allé 25, Helsingborg"
        },
        "name": "Helsingborg",
        "services": [
         {
          "name": "Anmälan"
         },
         {
          "name": "Beslag"
         },
         {
          "name": "Cyklar"
         },
         {
          "name": "Hittegods"
         },
         {
          "name": "Pass/nationellt id-kort"
         }
        ]
       },
       {
        "Url": "https://polisen.se/kontakt/polisstationer/gotland/hemse/",
        "id": 709,
        "location": {
         "gps": "57.239118,18.3712",
         "name": "Hagagatan 30 (Hemse Vårdcentrum), Hemse"
        },
        "name": "Hemse",
        "services": []
       },
       {
        "Url": "https://polisen.se/kontakt/polisstationer/vastra-gotaland/herrljunga/",
        "id": 1261,
        "location": {
         "gps": "58.077045,13.026741",
         "name": "Torget 1, Herrljunga"
        },
        "name": "Herrljunga",
        "services": []
       },
       {
        "Url": "https://polisen.se/kontakt/polisstationer/gavleborg/hofors/",
        "id": 718,
        "location": {
         "gps": "60.549984,16.267793",
         "name": "Granvägen 8, Kommunkontoret, Hofors"
        },
        "name": "Hofors",
        "services": []
       },
       {
        "Url": "https://polisen.se/kontakt/polisstationer/gavleborg/hudiksvall/",
        "id": 720,
        "location": {
         "gps": "61.729248,17.102241",
         "name": "N Kyrkogatan 17, Hudiksvall"
        },
        "name": "Hudiksvall",
        "services": [
         {
          "name": "Anmälan"
         },
         {
          "name": "Hittegods"
         },
         {
          "name": "Pass/nationellt id-kort"
         },
         {
          "name": "Tillstånd"
         }
        ]
       },
       {
        "Url": "https://polisen.se/kontakt/polisstationer/kalmar-lan/hultsfred/",
        "id": 792,
        "location": {
         "gps": "57.485776,15.841557",
         "name": "Västra Långgatan 36, Hultsfred"
        },
        "name": "Hultsfred",
        "services": [
         {
          "name": "Anmälan"
         },
         {
          "name": "Cyklar"
         },
         {
          "name": "Delgivning"
         },
         {
          "name": "Hittegods"
         },
         {
          "name": "Pass/nationellt id-kort"
         }
        ]
       },
       {
        "Url": "https://polisen.se/kontakt/polisstationer/halland/hylte/",
        "id": 739,
        "location": {
         "gps": "57.000881,13.241829",
         "name": "Storgatan 3, Hyltebruk"
        },
        "name": "Hylte",
        "services": [
         {
          "name": "Anmälan"
         },
         {
          "name": "Hittegods"
         },
         {
          "name": "Pass/nationellt id-kort"
         },
         {
          "name": "Tillstånd"
         }
        ]
       },
       {
        "Url": "https://polisen.se/kontakt/polisstationer/orebro-lan/hallefors/",
        "id": 1327,
        "location": {
         "gps": "59.783335,14.520379",
         "name": "Stationsvägen 1, Hällefors"
        },
        "name": "Hällefors",
        "services": [
         {
          "name": "Anmälan"
         },
         {
          "name": "Pass/nationellt id-kort"
         }
        ]
       },
       {
        "Url": "https://polisen.se/kontakt/polisstationer/vasternorrland/harnosand/",
        "id": 1201,
        "location": {
         "gps": "62.629215,17.933054",
         "name": "Storgatan 2, Härnösand "
        },
        "name": "Härnösand",
        "services": [
         {
          "name": "Anmälan"
         },
         {
          "name": "Pass/nationellt id-kort"
         },
         {
          "name": "Vapen"
         }
        ]
       },
       {
        "Url": "https://polisen.se/kontakt/polisstationer/skane/hassleholm/",
        "id": 895,
        "location": {
         "gps": "56.15628,13.766756",
         "name": "Östergatan 19, Hässleholm"
        },
        "name": "Hässleholm",
        "services": [
         {
          "name": "Anmälan"
         },
         {
          "name": "Cyklar"
         },
         {
          "name": "Hittegods"
         },
         {
          "name": "Pass/nationellt id-kort"
         }
        ]
       },
       {
        "Url": "https://polisen.se/kontakt/polisstationer/skane/hoganas/",
        "id": 897,
        "location": {
         "gps": "56.200564,12.557187",
         "name": "Torggatan 2, Höganäs"
        },
        "name": "Höganäs",
        "services": [
         {
          "name": "Anmälan"
         },
         {
          "name": "Cyklar"
         },
         {
          "name": "Hittegods"
         },
         {
          "name": "Vapen"
         }
        ]
       },
       {
        "Url": "https://polisen.se/kontakt/polisstationer/skane/horby/",
        "id": 899,
        "location": {
         "gps": "55.851322,13.658556",
         "name": "Ringsjövägen 4, Hörby"
        },
        "name": "Hörby",
        "services": [
         {
          "name": "Anmälan"
         },
         {
          "name": "Cyklar"
         },
         {
          "name": "Hittegods"
         }
        ]
       },
       {
        "Url": "https://polisen.se/kontakt/polisstationer/skane/hoor/",
        "id": 901,
        "location": {
         "gps": "55.926089,13.543933",
         "name": "Ringvägen 1, Höör"
        },
        "name": "Höör",
        "services": [
         {
          "name": "Anmälan"
         },
         {
          "name": "Cyklar"
         },
         {
          "name": "Hittegods"
         }
        ]
       },
       {
        "Url": "https://polisen.se/kontakt/polisstationer/dalarna/idre/",
        "id": 684,
        "location": {
         "gps": "61.858005,12.712541",
         "name": "Byvägen 34, Idre"
        },
        "name": "Idre",
        "services": [
         {
          "name": "Anmälan"
         },
         {
          "name": "Hittegods"
         },
         {
          "name": "Tillstånd"
         }
        ]
       },
       {
        "Url": "https://polisen.se/kontakt/polisstationer/norrbotten/jokkmokk/",
        "id": 847,
        "location": {
         "gps": "66.607503,19.82275",
         "name": "Klockarvägen 21, Jokkmokk"
        },
        "name": "Jokkmokk",
        "services": [
         {
          "name": "Anmälan"
         }
        ]
       },
       {
        "Url": "https://polisen.se/kontakt/polisstationer/stockholms-lan/stockholm-nord/jarfalla/",
        "id": 998,
        "location": {
         "gps": "59.425878,17.842135",
         "name": "Hästskovägen 88, Järfälla"
        },
        "name": "Järfälla",
        "services": [
         {
          "name": "Anmälan"
         },
         {
          "name": "Hittegods"
         },
         {
          "name": "Vapen"
         }
        ]
       },
       {
        "Url": "https://polisen.se/kontakt/polisstationer/jonkopings-lan/jonkoping/",
        "id": 775,
        "location": {
         "gps": "57.77981,14.166756",
         "name": "Vallgatan 3-5, Jönköping"
        },
        "name": "Jönköping",
        "services": [
         {
          "name": "Anmälan"
         },
         {
          "name": "Cyklar"
         },
         {
          "name": "Hittegods"
         },
         {
          "name": "Pass/nationellt id-kort"
         }
        ]
       },
       {
        "Url": "https://polisen.se/kontakt/polisstationer/norrbotten/kalix/",
        "id": 849,
        "location": {
         "gps": "65.855126,23.131884",
         "name": "Köpmannagatan 1, Kalix"
        },
        "name": "Kalix",
        "services": [
         {
          "name": "Anmälan"
         },
         {
          "name": "Cyklar"
         },
         {
          "name": "Hittegods"
         },
         {
          "name": "Pass/nationellt id-kort"
         }
        ]
       },
       {
        "Url": "https://polisen.se/kontakt/polisstationer/kalmar-lan/kalmar/",
        "id": 794,
        "location": {
         "gps": "56.672139,16.340322",
         "name": "Galggatan 4, Kalmar"
        },
        "name": "Kalmar",
        "services": [
         {
          "name": "Anmälan"
         },
         {
          "name": "Cyklar"
         },
         {
          "name": "Delgivning"
         },
         {
          "name": "Hittegods"
         },
         {
          "name": "Pass/nationellt id-kort"
         }
        ]
       },
       {
        "Url": "https://polisen.se/kontakt/polisstationer/vastra-gotaland/karlsborg/",
        "id": 1263,
        "location": {
         "gps": "58.529279,14.512075",
         "name": "Storgatan 12, Karlsborg"
        },
        "name": "Karlsborg",
        "services": [
         {
          "name": "Anmälan"
         },
         {
          "name": "Cyklar"
         },
         {
          "name": "Delgivning"
         },
         {
          "name": "Hittegods"
         },
         {
          "name": "Vapen"
         }
        ]
       },
       {
        "Url": "https://polisen.se/kontakt/polisstationer/blekinge/karlshamn/",
        "id": 663,
        "location": {
         "gps": "56.171176,14.869001",
         "name": "Erik Dahlbergsvägen 30 B, Karlshamn"
        },
        "name": "Karlshamn",
        "services": [
         {
          "name": "Anmälan"
         },
         {
          "name": "Hittegods"
         },
         {
          "name": "Pass/nationellt id-kort"
         }
        ]
       },
       {
        "Url": "https://polisen.se/kontakt/polisstationer/orebro-lan/karlskoga/",
        "id": 1329,
        "location": {
         "gps": "59.327415,14.509668",
         "name": "Värmlandsvägen 25, Karlskoga"
        },
        "name": "Karlskoga",
        "services": [
         {
          "name": "Anmälan"
         },
         {
          "name": "Beslag"
         },
         {
          "name": "Hittegods"
         },
         {
          "name": "Pass/nationellt id-kort"
         }
        ]
       },
       {
        "Url": "https://polisen.se/kontakt/polisstationer/blekinge/karlskrona/",
        "id": 665,
        "location": {
         "gps": "56.165085,15.5838",
         "name": "Järnvägstorget 5, Karlskrona"
        },
        "name": "Karlskrona",
        "services": [
         {
          "name": "Anmälan"
         },
         {
          "name": "Hittegods"
         },
         {
          "name": "Pass/nationellt id-kort"
         },
         {
          "name": "Provisoriskt pass"
         }
        ]
       },
       {
        "Url": "https://polisen.se/kontakt/polisstationer/varmland/karlstad/",
        "id": 1142,
        "location": {
         "gps": "59.39068,13.489011",
         "name": "Infanterigatan 22, Karlstad"
        },
        "name": "Karlstad",
        "services": [
         {
          "name": "Anmälan"
         },
         {
          "name": "Cyklar"
         },
         {
          "name": "Delgivning"
         },
         {
          "name": "Hittegods"
         },
         {
          "name": "Pass/nationellt id-kort"
         },
         {
          "name": "Provisoriskt pass"
         },
         {
          "name": "Vapen"
         }
        ]
       },
       {
        "Url": "https://polisen.se/kontakt/polisstationer/sodermanland/katrineholm/",
        "id": 1087,
        "location": {
         "gps": "58.993271,16.202029",
         "name": "Djulögatan 26, Katrineholm "
        },
        "name": "Katrineholm",
        "services": [
         {
          "name": "Anmälan"
         },
         {
          "name": "Hittegods"
         },
         {
          "name": "Pass/nationellt id-kort"
         }
        ]
       },
       {
        "Url": "https://polisen.se/kontakt/polisstationer/varmland/kil/",
        "id": 1144,
        "location": {
         "gps": "59.503566,13.316269",
         "name": "Storgatan 45, Kil"
        },
        "name": "Kil",
        "services": [
         {
          "name": "Anmälan"
         },
         {
          "name": "Hittegods"
         }
        ]
       },
       {
        "Url": "https://polisen.se/kontakt/polisstationer/ostergotland/kindaydre/",
        "id": 1350,
        "location": {
         "gps": "57.987378,15.632099",
         "name": "Stora Torget 5A, Kisa"
        },
        "name": "Kinda/Ydre",
        "services": [
         {
          "name": "Anmälan"
         }
        ]
       },
       {
        "Url": "https://polisen.se/kontakt/polisstationer/norrbotten/kiruna/",
        "id": 851,
        "location": {
         "gps": "67.856365,20.22071",
         "name": "Lars Jansonsgatan 10, Kiruna"
        },
        "name": "Kiruna",
        "services": [
         {
          "name": "Anmälan"
         },
         {
          "name": "Cyklar"
         },
         {
          "name": "Hittegods"
         },
         {
          "name": "Pass/nationellt id-kort"
         }
        ]
       },
       {
        "Url": "https://polisen.se/kontakt/polisstationer/stockholms-lan/stockholm-city/klara/",
        "id": 962,
        "location": {
         "gps": "59.330517,18.05709",
         "name": "Klarabergsviadukten 49, Stockholm"
        },
        "name": "Klara",
        "services": [
         {
          "name": "Anmälan"
         },
         {
          "name": "Cyklar"
         },
         {
          "name": "Hittegods"
         }
        ]
       },
       {
        "Url": "https://polisen.se/kontakt/polisstationer/skane/klippan/",
        "id": 903,
        "location": {
         "gps": "56.137565,13.125752",
         "name": "Storgatan 60, Klippan"
        },
        "name": "Klippan",
        "services": [
         {
          "name": "Anmälan"
         },
         {
          "name": "Cyklar"
         },
         {
          "name": "Hittegods"
         },
         {
          "name": "Vapen"
         }
        ]
       },
       {
        "Url": "https://polisen.se/kontakt/polisstationer/uppsala-lan/knivsta/",
        "id": 1109,
        "location": {
         "gps": "59.727964,17.785557",
         "name": "Centralvägen 18, kommunhuset i anslutning till biblioteket, Knivsta"
        },
        "name": "Knivsta",
        "services": [
         {
          "name": "Anmälan"
         },
         {
          "name": "Hittegods"
         }
        ]
       },
       {
        "Url": "https://polisen.se/kontakt/polisstationer/vasternorrland/kramfors/",
        "id": 1205,
        "location": {
         "gps": "62.930104,17.775498",
         "name": "Viktoriagatan 2, Kramfors"
        },
        "name": "Kramfors",
        "services": [
         {
          "name": "Anmälan"
         },
         {
          "name": "Pass/nationellt id-kort"
         },
         {
          "name": "Vapen"
         }
        ]
       },
       {
        "Url": "https://polisen.se/kontakt/polisstationer/skane/kristianstad/",
        "id": 905,
        "location": {
         "gps": "56.037407,14.154072",
         "name": "Östra Kaserngatan 1, Kristianstad"
        },
        "name": "Kristianstad",
        "services": [
         {
          "name": "Anmälan"
         },
         {
          "name": "Cyklar"
         },
         {
          "name": "Hittegods"
         },
         {
          "name": "Pass/nationellt id-kort"
         }
        ]
       },
       {
        "Url": "https://polisen.se/kontakt/polisstationer/varmland/kristinehamn/",
        "id": 1146,
        "location": {
         "gps": "59.312646,14.106952",
         "name": "Kungsgatan 30, Kristinehamn"
        },
        "name": "Kristinehamn",
        "services": [
         {
          "name": "Anmälan"
         },
         {
          "name": "Pass/nationellt id-kort"
         },
         {
          "name": "Vapen"
         }
        ]
       },
       {
        "Url": "https://polisen.se/kontakt/polisstationer/jamtland/krokom/",
        "id": 760,
        "location": {
         "gps": "63.326822,14.447556",
         "name": "Offerdalsvägen 3 , Krokom"
        },
        "name": "Krokom",
        "services": [
         {
          "name": "Anmälan"
         },
         {
          "name": "Cyklar"
         },
         {
          "name": "Delgivning"
         },
         {
          "name": "Hittegods"
         },
         {
          "name": "Tillstånd"
         }
        ]
       },
       {
        "Url": "https://polisen.se/kontakt/polisstationer/orebro-lan/kumla/",
        "id": 1331,
        "location": {
         "gps": "59.1281068,15.1424907",
         "name": "Stadshuset, Torget 1, 692 31 Kumla"
        },
        "name": "Kumla",
        "services": [
         {
          "name": "Hittegods"
         },
         {
          "name": "Tillstånd"
         }
        ]
       },
       {
        "Url": "https://polisen.se/kontakt/polisstationer/halland/kungsbacka/",
        "id": 741,
        "location": {
         "gps": "57.485555,12.080835",
         "name": "Lantmannagatan 5, Kungsbacka"
        },
        "name": "Kungsbacka",
        "services": [
         {
          "name": "Anmälan"
         },
         {
          "name": "Hittegods"
         },
         {
          "name": "Pass/nationellt id-kort"
         },
         {
          "name": "Tillstånd"
         }
        ]
       },
       {
        "Url": "https://polisen.se/kontakt/polisstationer/vastra-gotaland/kungshamnsotenas/",
        "id": 1265,
        "location": {
         "gps": "0,0",
         "name": ", "
        },
        "name": "Kungshamn/Sotenäs",
        "services": [
         {
          "name": "Anmälan"
         }
        ]
       },
       {
        "Url": "https://polisen.se/kontakt/polisstationer/vastmanland/kungsor/",
        "id": 1222,
        "location": {
         "gps": "59.422594,16.097583",
         "name": "Drottninggatan 34, Kungsör"
        },
        "name": "Kungsör",
        "services": [
         {
          "name": "Anmälan"
         },
         {
          "name": "Cyklar"
         },
         {
          "name": "Hittegods"
         }
        ]
       },
       {
        "Url": "https://polisen.se/kontakt/polisstationer/vastra-gotaland/kungalv/",
        "id": 1267,
        "location": {
         "gps": "57.870578,11.972248",
         "name": "Ytterbyvägen 25, Kungälv"
        },
        "name": "Kungälv",
        "services": [
         {
          "name": "Anmälan"
         },
         {
          "name": "Hittegods"
         },
         {
          "name": "Tillstånd"
         }
        ]
       },
       {
        "Url": "https://polisen.se/kontakt/polisstationer/skane/kavlinge/",
        "id": 907,
        "location": {
         "gps": "55.796782,13.115392",
         "name": "Karl Johans väg 102, Kävlinge"
        },
        "name": "Kävlinge",
        "services": [
         {
          "name": "Anmälan"
         },
         {
          "name": "Hittegods"
         }
        ]
       },
       {
        "Url": "https://polisen.se/kontakt/polisstationer/vastmanland/koping/",
        "id": 1224,
        "location": {
         "gps": "59.517207,15.966556",
         "name": "Ringvägen 88, Köping"
        },
        "name": "Köping",
        "services": [
         {
          "name": "Anmälan"
         },
         {
          "name": "Cyklar"
         },
         {
          "name": "Hittegods"
         },
         {
          "name": "Pass/nationellt id-kort"
         },
         {
          "name": "Tillstånd"
         },
         {
          "name": "Vapen"
         }
        ]
       },
       {
        "Url": "https://polisen.se/kontakt/polisstationer/halland/laholm/",
        "id": 743,
        "location": {
         "gps": "56.513205,13.050235",
         "name": "Lantmannagatan 3, Laholm"
        },
        "name": "Laholm",
        "services": [
         {
          "name": "Anmälan"
         },
         {
          "name": "Hittegods"
         },
         {
          "name": "Pass/nationellt id-kort"
         },
         {
          "name": "Tillstånd"
         }
        ]
       },
       {
        "Url": "https://polisen.se/kontakt/polisstationer/skane/landskrona/",
        "id": 909,
        "location": {
         "gps": "55.869568,12.83006",
         "name": "Rådhusgatan 1, Landskrona"
        },
        "name": "Landskrona",
        "services": [
         {
          "name": "Anmälan"
         },
         {
          "name": "Cyklar"
         },
         {
          "name": "Hittegods"
         },
         {
          "name": "Pass/nationellt id-kort"
         }
        ]
       },
       {
        "Url": "https://polisen.se/kontakt/polisstationer/orebro-lan/laxa/",
        "id": 1333,
        "location": {
         "gps": "58.989128,14.617326",
         "name": "Kommunhuset Laxå, Postgatan 2, Laxå"
        },
        "name": "Laxå",
        "services": [
         {
          "name": "Hittegods"
         },
         {
          "name": "Tillstånd"
         }
        ]
       },
       {
        "Url": "https://polisen.se/kontakt/polisstationer/dalarna/leksand/",
        "id": 686,
        "location": {
         "gps": "60.73223,14.998055",
         "name": "Kommunhuset, Torget 5, Leksand"
        },
        "name": "Leksand",
        "services": [
         {
          "name": "Anmälan"
         },
         {
          "name": "Hittegods"
         },
         {
          "name": "Tillstånd"
         }
        ]
       },
       {
        "Url": "https://polisen.se/kontakt/polisstationer/vastra-gotaland/lerum/",
        "id": 1269,
        "location": {
         "gps": "57.768456,12.265073",
         "name": "Göteborgsvägen 16, Lerum"
        },
        "name": "Lerum",
        "services": [
         {
          "name": "Anmälan"
         },
         {
          "name": "Hittegods"
         }
        ]
       },
       {
        "Url": "https://polisen.se/kontakt/polisstationer/kronoberg/lessebo/",
        "id": 813,
        "location": {
         "gps": "56.751387,15.269421",
         "name": "Storgatan 78, Lessebo"
        },
        "name": "Lessebo",
        "services": [
         {
          "name": "Anmälan"
         },
         {
          "name": "Hittegods"
         }
        ]
       },
       {
        "Url": "https://polisen.se/kontakt/polisstationer/vastra-gotaland/lidkoping/",
        "id": 1271,
        "location": {
         "gps": "58.50214,13.155002",
         "name": "Mellbygatan 5, Lidköping"
        },
        "name": "Lidköping",
        "services": [
         {
          "name": "Anmälan"
         },
         {
          "name": "Cyklar"
         },
         {
          "name": "Hittegods"
         },
         {
          "name": "Pass/nationellt id-kort"
         },
         {
          "name": "Vapen"
         }
        ]
       },
       {
        "Url": "https://polisen.se/kontakt/polisstationer/orebro-lan/lindesberg/",
        "id": 1337,
        "location": {
         "gps": "59.592221,15.227791",
         "name": "Prästgatan 6, Lindesberg"
        },
        "name": "Lindesberg",
        "services": [
         {
          "name": "Anmälan"
         },
         {
          "name": "Pass/nationellt id-kort"
         }
        ]
       },
       {
        "Url": "https://polisen.se/kontakt/polisstationer/ostergotland/linkoping/",
        "id": 1352,
        "location": {
         "gps": "58.396756,15.618866",
         "name": "Brigadgatan 13, Linköping"
        },
        "name": "Linköping",
        "services": [
         {
          "name": "Anmälan"
         },
         {
          "name": "Beslag"
         },
         {
          "name": "Cyklar"
         },
         {
          "name": "Delgivning"
         },
         {
          "name": "Hittegods"
         },
         {
          "name": "Pass/nationellt id-kort"
         },
         {
          "name": "Tillstånd"
         },
         {
          "name": "Vapen"
         }
        ]
       },
       {
        "Url": "https://polisen.se/kontakt/polisstationer/kronoberg/ljungby/",
        "id": 815,
        "location": {
         "gps": "56.834814,13.937252",
         "name": "Södra Torggatan 1, Ljungby"
        },
        "name": "Ljungby",
        "services": [
         {
          "name": "Anmälan"
         },
         {
          "name": "Cyklar"
         },
         {
          "name": "Delgivning"
         },
         {
          "name": "Hittegods"
         },
         {
          "name": "Pass/nationellt id-kort"
         }
        ]
       },
       {
        "Url": "https://polisen.se/kontakt/polisstationer/gavleborg/ljusdal/",
        "id": 722,
        "location": {
         "gps": "61.8276658,16.101895",
         "name": "Hotellgatan 35, Ljusdal"
        },
        "name": "Ljusdal",
        "services": [
         {
          "name": "Anmälan"
         },
         {
          "name": "Hittegods"
         },
         {
          "name": "Tillstånd"
         }
        ]
       },
       {
        "Url": "https://polisen.se/kontakt/polisstationer/orebro-lan/ljusnarsberg/",
        "id": 1339,
        "location": {
         "gps": "59.876035,14.998717",
         "name": "Gruvstugutorget 6, Kopparberg "
        },
        "name": "Ljusnarsberg",
        "services": [
         {
          "name": "Anmälan"
         }
        ]
       },
       {
        "Url": "https://polisen.se/kontakt/polisstationer/skane/lomma/",
        "id": 911,
        "location": {
         "gps": "55.674818,13.072137",
         "name": "Hamngatan 3, Lomma"
        },
        "name": "Lomma",
        "services": [
         {
          "name": "Anmälan"
         },
         {
          "name": "Cyklar"
         },
         {
          "name": "Hittegods"
         }
        ]
       },
       {
        "Url": "https://polisen.se/kontakt/polisstationer/dalarna/ludvika-/",
        "id": 688,
        "location": {
         "gps": "60.1483,15.187602",
         "name": "Engelbrektsgatan 18, Ludvika"
        },
        "name": "Ludvika ",
        "services": [
         {
          "name": "Anmälan"
         },
         {
          "name": "Cyklar"
         },
         {
          "name": "Hittegods"
         },
         {
          "name": "Pass/nationellt id-kort"
         },
         {
          "name": "Tillstånd"
         },
         {
          "name": "Vapen"
         }
        ]
       },
       {
        "Url": "https://polisen.se/kontakt/polisstationer/norrbotten/lulea/",
        "id": 854,
        "location": {
         "gps": "65.5861,22.160199",
         "name": "Skeppsbrogatan 37, Luleå"
        },
        "name": "Luleå",
        "services": [
         {
          "name": "Anmälan"
         },
         {
          "name": "Hittegods"
         },
         {
          "name": "Pass/nationellt id-kort"
         },
         {
          "name": "Provisoriskt pass"
         },
         {
          "name": "Vapen"
         }
        ]
       },
       {
        "Url": "https://polisen.se/kontakt/polisstationer/skane/lund/",
        "id": 913,
        "location": {
         "gps": "55.704204,13.18353",
         "name": "Byggmästaregatan 1, Lund"
        },
        "name": "Lund",
        "services": [
         {
          "name": "Anmälan"
         },
         {
          "name": "Beslag"
         },
         {
          "name": "Cyklar"
         },
         {
          "name": "Hittegods"
         },
         {
          "name": "Pass/nationellt id-kort"
         }
        ]
       },
       {
        "Url": "https://polisen.se/kontakt/polisstationer/vasterbotten/lycksele/",
        "id": 1170,
        "location": {
         "gps": "64.594354,18.679252",
         "name": "Borgaregatan 4, 921 31 Lycksele"
        },
        "name": "Lycksele",
        "services": [
         {
          "name": "Anmälan"
         },
         {
          "name": "Hittegods"
         },
         {
          "name": "Pass/nationellt id-kort"
         },
         {
          "name": "Tillstånd"
         },
         {
          "name": "Vapen"
         }
        ]
       },
       {
        "Url": "https://polisen.se/kontakt/polisstationer/vastra-gotaland/lysekil/",
        "id": 1273,
        "location": {
         "gps": "58.276311,11.442036",
         "name": "Landsvägsgatan 8, Lysekil"
        },
        "name": "Lysekil",
        "services": [
         {
          "name": "Anmälan"
         }
        ]
       },
       {
        "Url": "https://polisen.se/kontakt/polisstationer/skane/malmo-drottninggatan/",
        "id": 918,
        "location": {
         "gps": "55.602845,13.011065",
         "name": "Drottninggatan 18, Malmö"
        },
        "name": "Malmö Drottninggatan",
        "services": [
         {
          "name": "Delgivning"
         },
         {
          "name": "Pass/nationellt id-kort"
         },
         {
          "name": "Provisoriskt pass"
         }
        ]
       },
       {
        "Url": "https://polisen.se/kontakt/polisstationer/skane/malmo-hittegodsbeslag/",
        "id": 920,
        "location": {
         "gps": "55.622716,13.041993",
         "name": "Sturkögatan 10, Malmö (Upphittade nycklar finns på stationen på Porslinsgatan 4B)"
        },
        "name": "Malmö hittegods/beslag",
        "services": [
         {
          "name": "Beslag"
         },
         {
          "name": "Cyklar"
         },
         {
          "name": "Hittegods"
         }
        ]
       },
       {
        "Url": "https://polisen.se/kontakt/polisstationer/skane/malmo-porslinsgatan/",
        "id": 922,
        "location": {
         "gps": "55.606157,13.015432",
         "name": "Porslinsgatan 4B, Malmö"
        },
        "name": "Malmö Porslinsgatan",
        "services": [
         {
          "name": "Anmälan"
         }
        ]
       },
       {
        "Url": "https://polisen.se/kontakt/polisstationer/skane/malmo-rosengard/",
        "id": 924,
        "location": {
         "gps": "55.587067,13.050536",
         "name": "Von Lingens väg 130 b, Malmö"
        },
        "name": "Malmö Rosengård",
        "services": [
         {
          "name": "Anmälan"
         }
        ]
       },
       {
        "Url": "https://polisen.se/kontakt/polisstationer/dalarna/malung/",
        "id": 690,
        "location": {
         "gps": "60.683521,13.717502",
         "name": "Lisagatan 53, Malung"
        },
        "name": "Malung",
        "services": [
         {
          "name": "Anmälan"
         },
         {
          "name": "Hittegods"
         },
         {
          "name": "Tillstånd"
         }
        ]
       },
       {
        "Url": "https://polisen.se/kontakt/polisstationer/vasterbotten/mala/",
        "id": 1172,
        "location": {
         "gps": "65.182865,18.742222",
         "name": "Storgatan 46, 930 70 Malå"
        },
        "name": "Malå",
        "services": [
         {
          "name": "Anmälan"
         },
         {
          "name": "Hittegods"
         }
        ]
       },
       {
        "Url": "https://polisen.se/kontakt/polisstationer/vastra-gotaland/mariestad/",
        "id": 1275,
        "location": {
         "gps": "58.708971,13.812818",
         "name": "Oxvägen 1, Mariestad"
        },
        "name": "Mariestad",
        "services": [
         {
          "name": "Anmälan"
         },
         {
          "name": "Hittegods"
         },
         {
          "name": "Pass/nationellt id-kort"
         }
        ]
       },
       {
        "Url": "https://polisen.se/kontakt/polisstationer/vastra-gotaland/mark/",
        "id": 1277,
        "location": {
         "gps": "57.50999,12.698547",
         "name": "Boråsvägen 50, Kinna"
        },
        "name": "Mark",
        "services": [
         {
          "name": "Anmälan"
         },
         {
          "name": "Hittegods"
         },
         {
          "name": "Pass/nationellt id-kort"
         }
        ]
       },
       {
        "Url": "https://polisen.se/kontakt/polisstationer/vastra-gotaland/mellerud/",
        "id": 1279,
        "location": {
         "gps": "58.698524,12.459995",
         "name": "Storgatan 40, Mellerud"
        },
        "name": "Mellerud",
        "services": [
         {
          "name": "Anmälan"
         },
         {
          "name": "Cyklar"
         },
         {
          "name": "Delgivning"
         },
         {
          "name": "Hittegods"
         },
         {
          "name": "Tillstånd"
         },
         {
          "name": "Vapen"
         }
        ]
       },
       {
        "Url": "https://polisen.se/kontakt/polisstationer/ostergotland/mjolby/",
        "id": 1354,
        "location": {
         "gps": "58.327416,15.125935",
         "name": "Kungsvägen 69, Mjölby"
        },
        "name": "Mjölby",
        "services": [
         {
          "name": "Anmälan"
         },
         {
          "name": "Cyklar"
         },
         {
          "name": "Delgivning"
         },
         {
          "name": "Hittegods"
         },
         {
          "name": "Tillstånd"
         },
         {
          "name": "Vapen"
         }
        ]
       },
       {
        "Url": "https://polisen.se/kontakt/polisstationer/vastra-gotaland/mobila-kontoret-fyrbodal/",
        "id": 1281,
        "location": {
         "gps": "0,0",
         "name": ", "
        },
        "name": "Mobila kontoret Fyrbodal",
        "services": [
         {
          "name": "Anmälan"
         }
        ]
       },
       {
        "Url": "https://polisen.se/kontakt/polisstationer/vastra-gotaland/mobila-kontoret-skaraborg/",
        "id": 1283,
        "location": {
         "gps": "0,0",
         "name": ", "
        },
        "name": "Mobila kontoret Skaraborg",
        "services": [
         {
          "name": "Anmälan"
         }
        ]
       },
       {
        "Url": "https://polisen.se/kontakt/polisstationer/vastra-gotaland/mobila-kontoret-alvsborg/",
        "id": 6706,
        "location": {
         "gps": "58.121111,12.530556",
         "name": "Herrljunga, Sollebrunn, Tranemo, Svenljunga, Bollebygd, Gråbo, "
        },
        "name": "Mobila kontoret Älvsborg",
        "services": [
         {
          "name": "Anmälan"
         },
         {
          "name": "Hittegods"
         },
         {
          "name": "Vapen"
         }
        ]
       },
       {
        "Url": "https://polisen.se/kontakt/polisstationer/kalmar-lan/mobila-poliskontoret/",
        "id": 796,
        "location": {
         "gps": "56.630072,15.538553",
         "name": "Blomstermåla, Emmaboda, Högsby, Målilla, Mönsterås, Mörbylånga, Torsås, Virserum, "
        },
        "name": "Mobila poliskontoret i Kalmar och Kronobergs län",
        "services": [
         {
          "name": "Anmälan"
         },
         {
          "name": "Hittegods"
         }
        ]
       },
       {
        "Url": "https://polisen.se/kontakt/polisstationer/kronoberg/mobila-poliskontoret/",
        "id": 25994,
        "location": {
         "gps": "56.751162,15.270459",
         "name": "Lessebo, Ryd, Vislanda, "
        },
        "name": "Mobila poliskontoret i Kalmar och Kronobergs län",
        "services": [
         {
          "name": "Anmälan"
         },
         {
          "name": "Hittegods"
         }
        ]
       },
       {
        "Url": "https://polisen.se/kontakt/polisstationer/skane/mobila-poliskontoret-i-blekinge-nordostra-skane/",
        "id": 31164,
        "location": {
         "gps": "56.037572,14.153985",
         "name": "Hässleholm, Kristianstad, Osby, Ronneby, Sölvesborg, "
        },
        "name": "Mobila poliskontoret i polisområde Blekinge nordöstra Skåne",
        "services": [
         {
          "name": "Anmälan"
         },
         {
          "name": "Hittegods"
         }
        ]
       },
       {
        "Url": "https://polisen.se/kontakt/polisstationer/blekinge/mobila-poliskontoret-i-blekinge-nordostra-skane/",
        "id": 87257,
        "location": {
         "gps": "56.210434,15.2760229",
         "name": "Hässleholm, Kristianstad, Osby, Ronneby, Sölvesborg, "
        },
        "name": "Mobila poliskontoret i polisområde Blekinge nordöstra Skåne",
        "services": [
         {
          "name": "Anmälan"
         },
         {
          "name": "Hittegods"
         }
        ]
       },
       {
        "Url": "https://polisen.se/kontakt/polisstationer/dalarna/mora/",
        "id": 692,
        "location": {
         "gps": "61.005612,14.536855",
         "name": "Millåkersgatan 6-8, Mora"
        },
        "name": "Mora",
        "services": [
         {
          "name": "Anmälan"
         },
         {
          "name": "Beslag"
         },
         {
          "name": "Cyklar"
         },
         {
          "name": "Delgivning"
         },
         {
          "name": "Hittegods"
         },
         {
          "name": "Pass/nationellt id-kort"
         },
         {
          "name": "Tillstånd"
         },
         {
          "name": "Vapen"
         }
        ]
       },
       {
        "Url": "https://polisen.se/kontakt/polisstationer/ostergotland/motala/",
        "id": 1356,
        "location": {
         "gps": "58.537724,15.046239",
         "name": "Järnvägsparken 1, Motala"
        },
        "name": "Motala",
        "services": [
         {
          "name": "Anmälan"
         },
         {
          "name": "Cyklar"
         },
         {
          "name": "Delgivning"
         },
         {
          "name": "Hittegods"
         },
         {
          "name": "Pass/nationellt id-kort"
         },
         {
          "name": "Tillstånd"
         },
         {
          "name": "Vapen"
         }
        ]
       },
       {
        "Url": "https://polisen.se/kontakt/polisstationer/varmland/munkfors/",
        "id": 1148,
        "location": {
         "gps": "59.835599,13.545839",
         "name": "Tallbacksvägen 21A, Munkfors"
        },
        "name": "Munkfors",
        "services": [
         {
          "name": "Anmälan"
         },
         {
          "name": "Hittegods"
         }
        ]
       },
       {
        "Url": "https://polisen.se/kontakt/polisstationer/vastra-gotaland/molndal/",
        "id": 1286,
        "location": {
         "gps": "57.659398,12.019758",
         "name": "Torggatan 3, Mölndal"
        },
        "name": "Mölndal",
        "services": [
         {
          "name": "Anmälan"
         },
         {
          "name": "Hittegods"
         },
         {
          "name": "Pass/nationellt id-kort"
         }
        ]
       },
       {
        "Url": "https://polisen.se/kontakt/polisstationer/vastra-gotaland/molnlycke/",
        "id": 1288,
        "location": {
         "gps": "57.6590691,12.1146302",
         "name": "Råda torg 1, Mölnlycke"
        },
        "name": "Mölnlycke",
        "services": []
       },
       {
        "Url": "https://polisen.se/kontakt/polisstationer/kalmar-lan/monsteras/",
        "id": 798,
        "location": {
         "gps": "57.041343,16.445039",
         "name": "Storgatan 13, Mönsterås"
        },
        "name": "Mönsterås",
        "services": [
         {
          "name": "Anmälan"
         },
         {
          "name": "Hittegods"
         }
        ]
       },
       {
        "Url": "https://polisen.se/kontakt/polisstationer/stockholms-lan/stockholm-syd/nacka/",
        "id": 1035,
        "location": {
         "gps": "59.314907,18.164518",
         "name": "Jakobsdalsvägen 1, Nacka Strand"
        },
        "name": "Nacka",
        "services": [
         {
          "name": "Anmälan"
         },
         {
          "name": "Hittegods"
         },
         {
          "name": "Pass/nationellt id-kort"
         }
        ]
       },
       {
        "Url": "https://polisen.se/kontakt/polisstationer/orebro-lan/nora/",
        "id": 1341,
        "location": {
         "gps": "59.520672,15.036672",
         "name": "Skolgatan 13, Nora"
        },
        "name": "Nora",
        "services": [
         {
          "name": "Anmälan"
         }
        ]
       },
       {
        "Url": "https://polisen.se/kontakt/polisstationer/vastmanland/norberg/",
        "id": 1226,
        "location": {
         "gps": "60.064318,15.922239",
         "name": "Malmgatan 7, Norberg"
        },
        "name": "Norberg",
        "services": [
         {
          "name": "Anmälan"
         },
         {
          "name": "Cyklar"
         }
        ]
       },
       {
        "Url": "https://polisen.se/kontakt/polisstationer/gavleborg/nordanstig---bergsjo/",
        "id": 724,
        "location": {
         "gps": "61.980603,17.060067",
         "name": "Södra vägen 14, Bergsjö"
        },
        "name": "Nordanstig - Bergsjö",
        "services": []
       },
       {
        "Url": "https://polisen.se/kontakt/polisstationer/vasterbotten/nordmaling/",
        "id": 1174,
        "location": {
         "gps": "63.567966,19.5",
         "name": "Storgatan 11, 914 33 Nordmaling"
        },
        "name": "Nordmaling",
        "services": [
         {
          "name": "Anmälan"
         },
         {
          "name": "Hittegods"
         },
         {
          "name": "Tillstånd"
         }
        ]
       },
       {
        "Url": "https://polisen.se/kontakt/polisstationer/ostergotland/norrkoping/",
        "id": 1358,
        "location": {
         "gps": "58.595566,16.174239",
         "name": "Stockholmsvägen 4-6, Norrköping"
        },
        "name": "Norrköping",
        "services": [
         {
          "name": "Anmälan"
         },
         {
          "name": "Delgivning"
         },
         {
          "name": "Hittegods"
         },
         {
          "name": "Pass/nationellt id-kort"
         },
         {
          "name": "Tillstånd"
         },
         {
          "name": "Vapen"
         }
        ]
       },
       {
        "Url": "https://polisen.se/kontakt/polisstationer/stockholms-lan/stockholm-nord/norrtalje/",
        "id": 1001,
        "location": {
         "gps": "59.756701,18.697308",
         "name": "Esplanaden 1, Norrtälje"
        },
        "name": "Norrtälje ",
        "services": [
         {
          "name": "Anmälan"
         },
         {
          "name": "Hittegods"
         },
         {
          "name": "Pass/nationellt id-kort"
         },
         {
          "name": "Vapen"
         }
        ]
       },
       {
        "Url": "https://polisen.se/kontakt/polisstationer/vasterbotten/norsjo/",
        "id": 1176,
        "location": {
         "gps": "64.913451,19.484497",
         "name": "Åkargatan 7, 935 31 Norsjö"
        },
        "name": "Norsjö",
        "services": [
         {
          "name": "Anmälan"
         },
         {
          "name": "Hittegods"
         }
        ]
       },
       {
        "Url": "https://polisen.se/kontakt/polisstationer/kalmar-lan/nybro/",
        "id": 800,
        "location": {
         "gps": "56.745436,15.910707",
         "name": "Långgatan 9, Nybro"
        },
        "name": "Nybro",
        "services": [
         {
          "name": "Anmälan"
         },
         {
          "name": "Cyklar"
         },
         {
          "name": "Hittegods"
         }
        ]
       },
       {
        "Url": "https://polisen.se/kontakt/polisstationer/sodermanland/nykoping/",
        "id": 1089,
        "location": {
         "gps": "58.749382,17.015824",
         "name": "Folkungavägen 2, Nyköping"
        },
        "name": "Nyköping",
        "services": [
         {
          "name": "Anmälan"
         },
         {
          "name": "Delgivning"
         },
         {
          "name": "Hittegods"
         },
         {
          "name": "Pass/nationellt id-kort"
         }
        ]
       },
       {
        "Url": "https://polisen.se/kontakt/polisstationer/stockholms-lan/stockholm-syd/nynashamn/",
        "id": 1065,
        "location": {
         "gps": "58.903713,17.948971",
         "name": "Fredsgatan 8, Nynäshamn "
        },
        "name": "Nynäshamn",
        "services": [
         {
          "name": "Anmälan"
         },
         {
          "name": "Hittegods"
         },
         {
          "name": "Vapen"
         }
        ]
       },
       {
        "Url": "https://polisen.se/kontakt/polisstationer/jonkopings-lan/nassjo/",
        "id": 779,
        "location": {
         "gps": "57.649617,14.699045",
         "name": "Södergatan 1, Nässjö"
        },
        "name": "Nässjö",
        "services": [
         {
          "name": "Anmälan"
         },
         {
          "name": "Hittegods"
         }
        ]
       },
       {
        "Url": "https://polisen.se/kontakt/polisstationer/gavleborg/ockelbo/",
        "id": 726,
        "location": {
         "gps": "60.890612,16.716791",
         "name": "Åsgatan 30D, Kommunkontoret, Ockelbo"
        },
        "name": "Ockelbo",
        "services": []
       },
       {
        "Url": "https://polisen.se/kontakt/polisstationer/blekinge/olofstrom/",
        "id": 667,
        "location": {
         "gps": "56.277212,14.531156",
         "name": "Ådalsvägen 4, Olofström"
        },
        "name": "Olofström",
        "services": [
         {
          "name": "Anmälan"
         }
        ]
       },
       {
        "Url": "https://polisen.se/kontakt/polisstationer/dalarna/orsa/",
        "id": 694,
        "location": {
         "gps": "61.120585,14.611938",
         "name": "Kommunhuset, Parkgatan 1, Orsa"
        },
        "name": "Orsa",
        "services": [
         {
          "name": "Anmälan"
         },
         {
          "name": "Hittegods"
         },
         {
          "name": "Tillstånd"
         }
        ]
       },
       {
        "Url": "https://polisen.se/kontakt/polisstationer/kalmar-lan/oskarshamn/",
        "id": 802,
        "location": {
         "gps": "57.264954,16.45004",
         "name": "Slottsgatan 5, Oskarshamn"
        },
        "name": "Oskarshamn",
        "services": [
         {
          "name": "Anmälan"
         },
         {
          "name": "Cyklar"
         },
         {
          "name": "Delgivning"
         },
         {
          "name": "Hittegods"
         },
         {
          "name": "Pass/nationellt id-kort"
         }
        ]
       },
       {
        "Url": "https://polisen.se/kontakt/polisstationer/gavleborg/ovanaker---edsbyn/",
        "id": 728,
        "location": {
         "gps": "61.377322,15.817505",
         "name": "Långgatan 24, Edsbyn"
        },
        "name": "Ovanåker - Edsbyn",
        "services": []
       },
       {
        "Url": "https://polisen.se/kontakt/polisstationer/sodermanland/oxelosund/",
        "id": 1093,
        "location": {
         "gps": "58.671354,17.106963",
         "name": "Höjdgatan 26, Oxelösund"
        },
        "name": "Oxelösund",
        "services": [
         {
          "name": "Anmälan"
         },
         {
          "name": "Hittegods"
         }
        ]
       },
       {
        "Url": "https://polisen.se/kontakt/polisstationer/norrbotten/pajala/",
        "id": 858,
        "location": {
         "gps": "67.21346,23.365942",
         "name": "Tingsgatan 1, Pajala"
        },
        "name": "Pajala",
        "services": [
         {
          "name": "Anmälan"
         }
        ]
       },
       {
        "Url": "https://polisen.se/kontakt/polisstationer/vastra-gotaland/partille/",
        "id": 1290,
        "location": {
         "gps": "57.739064,12.102153",
         "name": "Gamla Kronvägen 34, Göteborg"
        },
        "name": "Partille",
        "services": [
         {
          "name": "Anmälan"
         }
        ]
       },
       {
        "Url": "https://polisen.se/kontakt/polisstationer/skane/perstorp/",
        "id": 928,
        "location": {
         "gps": "56.137991,13.396545",
         "name": "Hantverkaregatan 9 B, Perstorp"
        },
        "name": "Perstorp",
        "services": [
         {
          "name": "Anmälan"
         }
        ]
       },
       {
        "Url": "https://polisen.se/kontakt/polisstationer/norrbotten/pitea/",
        "id": 865,
        "location": {
         "gps": "65.31648,21.465651",
         "name": "Kolugnsvägen 1, Piteå"
        },
        "name": "Piteå",
        "services": [
         {
          "name": "Anmälan"
         },
         {
          "name": "Cyklar"
         },
         {
          "name": "Hittegods"
         },
         {
          "name": "Pass/nationellt id-kort"
         },
         {
          "name": "Vapen"
         }
        ]
       },
       {
        "Url": "https://polisen.se/kontakt/polisstationer/vasterbotten/robertsfors/",
        "id": 1178,
        "location": {
         "gps": "64.193529,20.847385",
         "name": "Storgatan 28, 915 31 Robertsfors"
        },
        "name": "Robertsfors",
        "services": [
         {
          "name": "Anmälan"
         },
         {
          "name": "Hittegods"
         },
         {
          "name": "Tillstånd"
         }
        ]
       },
       {
        "Url": "https://polisen.se/kontakt/polisstationer/stockholms-lan/stockholm-syd/ronna-omradeskontor/",
        "id": 1041,
        "location": {
         "gps": "59.206288,17.592084",
         "name": "Rösvägen 3-5, Södertälje"
        },
        "name": "Ronna områdeskontor",
        "services": [
         {
          "name": "Anmälan"
         }
        ]
       },
       {
        "Url": "https://polisen.se/kontakt/polisstationer/blekinge/ronneby/",
        "id": 669,
        "location": {
         "gps": "56.213557,15.2738",
         "name": "Gamla Karlshamnsvägen 2, Ronneby"
        },
        "name": "Ronneby",
        "services": [
         {
          "name": "Anmälan"
         },
         {
          "name": "Hittegods"
         }
        ]
       },
       {
        "Url": "https://polisen.se/kontakt/polisstationer/dalarna/rattvik/",
        "id": 696,
        "location": {
         "gps": "60.886756,15.119315",
         "name": "Torggatan 18, Rättvik"
        },
        "name": "Rättvik",
        "services": [
         {
          "name": "Anmälan"
         },
         {
          "name": "Hittegods"
         },
         {
          "name": "Tillstånd"
         }
        ]
       },
       {
        "Url": "https://polisen.se/kontakt/polisstationer/vastmanland/sala/",
        "id": 1228,
        "location": {
         "gps": "59.91911,16.606581",
         "name": "Gillegatan 5C, Sala"
        },
        "name": "Sala",
        "services": [
         {
          "name": "Anmälan"
         },
         {
          "name": "Cyklar"
         },
         {
          "name": "Hittegods"
         },
         {
          "name": "Pass/nationellt id-kort"
         },
         {
          "name": "Vapen"
         }
        ]
       },
       {
        "Url": "https://polisen.se/kontakt/polisstationer/gavleborg/sandviken/",
        "id": 730,
        "location": {
         "gps": "60.621891,16.779447",
         "name": "Bryggargatan 6, Sandviken"
        },
        "name": "Sandviken",
        "services": [
         {
          "name": "Anmälan"
         },
         {
          "name": "Hittegods"
         },
         {
          "name": "Tillstånd"
         }
        ]
       },
       {
        "Url": "https://polisen.se/kontakt/polisstationer/skane/simrishamn/",
        "id": 930,
        "location": {
         "gps": "55.554463,14.351678",
         "name": "Stenbocksgatan 24, Simrishamn"
        },
        "name": "Simrishamn",
        "services": [
         {
          "name": "Anmälan"
         },
         {
          "name": "Cyklar"
         },
         {
          "name": "Hittegods"
         }
        ]
       },
       {
        "Url": "https://polisen.se/kontakt/polisstationer/skane/sjobo/",
        "id": 932,
        "location": {
         "gps": "55.632385,13.709213",
         "name": "Trädgårdsgatan 5, Sjöbo"
        },
        "name": "Sjöbo",
        "services": [
         {
          "name": "Anmälan"
         }
        ]
       },
       {
        "Url": "https://polisen.se/kontakt/polisstationer/vastra-gotaland/skara/",
        "id": 1292,
        "location": {
         "gps": "58.384982,13.440924",
         "name": "Östra Kungshusgatan 11, Skara"
        },
        "name": "Skara",
        "services": [
         {
          "name": "Anmälan"
         },
         {
          "name": "Hittegods"
         }
        ]
       },
       {
        "Url": "https://polisen.se/kontakt/polisstationer/sodermanland/nykoping-skavsta/",
        "id": 1091,
        "location": {
         "gps": "58.78341,16.923055",
         "name": "General Schybergs väg 27, Stockholm-Skavsta flygplats"
        },
        "name": "Skavsta",
        "services": [
         {
          "name": "Pass/nationellt id-kort"
         },
         {
          "name": "Provisoriskt pass"
         }
        ]
       },
       {
        "Url": "https://polisen.se/kontakt/polisstationer/vasterbotten/skelleftehamn/",
        "id": 1180,
        "location": {
         "gps": "64.688025,21.23783",
         "name": "S:t Örjansvägen 7, 932 32 Skelleftehamn"
        },
        "name": "Skelleftehamn",
        "services": []
       },
       {
        "Url": "https://polisen.se/kontakt/polisstationer/vasterbotten/skelleftea/",
        "id": 1182,
        "location": {
         "gps": "64.74848,20.95886",
         "name": "Strandgatan 47, 931 30 Skellefteå"
        },
        "name": "Skellefteå",
        "services": [
         {
          "name": "Anmälan"
         },
         {
          "name": "Hittegods"
         },
         {
          "name": "Pass/nationellt id-kort"
         },
         {
          "name": "Tillstånd"
         },
         {
          "name": "Vapen"
         }
        ]
       },
       {
        "Url": "https://polisen.se/kontakt/polisstationer/skane/skurup/",
        "id": 934,
        "location": {
         "gps": "55.47911,13.503588",
         "name": "Kyrkogatan 31, Skurup "
        },
        "name": "Skurup",
        "services": [
         {
          "name": "Anmälan"
         }
        ]
       },
       {
        "Url": "https://polisen.se/kontakt/polisstationer/uppsala-lan/skutskar/",
        "id": 1111,
        "location": {
         "gps": "60.626215,17.414337",
         "name": "Centralgatan 5, Skutskär, "
        },
        "name": "Skutskär",
        "services": [
         {
          "name": "Anmälan"
         },
         {
          "name": "Hittegods"
         }
        ]
       },
       {
        "Url": "https://polisen.se/kontakt/polisstationer/stockholms-lan/stockholm-syd/skarholmen/",
        "id": 1056,
        "location": {
         "gps": "59.273417,17.90706",
         "name": "Måsholmstorget 5, Skärholmen"
        },
        "name": "Skärholmen",
        "services": [
         {
          "name": "Anmälan"
         },
         {
          "name": "Hittegods"
         },
         {
          "name": "Vapen"
         }
        ]
       },
       {
        "Url": "https://polisen.se/kontakt/polisstationer/vastra-gotaland/skovde/",
        "id": 1294,
        "location": {
         "gps": "58.386664,13.847876",
         "name": "Prinsgatan 7-9, Skövde"
        },
        "name": "Skövde",
        "services": [
         {
          "name": "Anmälan"
         },
         {
          "name": "Hittegods"
         },
         {
          "name": "Pass/nationellt id-kort"
         },
         {
          "name": "Vapen"
         }
        ]
       },
       {
        "Url": "https://polisen.se/kontakt/polisstationer/dalarna/smedjebacken/",
        "id": 698,
        "location": {
         "gps": "60.143241,15.414532",
         "name": "Kommunalhuset, Smedjebacken"
        },
        "name": "Smedjebacken",
        "services": [
         {
          "name": "Anmälan"
         },
         {
          "name": "Hittegods"
         },
         {
          "name": "Tillstånd"
         }
        ]
       },
       {
        "Url": "https://polisen.se/kontakt/polisstationer/vasternorrland/solleftea/",
        "id": 1207,
        "location": {
         "gps": "63.169085,17.28717",
         "name": "Hågestavägen 2, Sollefteå"
        },
        "name": "Sollefteå",
        "services": [
         {
          "name": "Anmälan"
         },
         {
          "name": "Pass/nationellt id-kort"
         },
         {
          "name": "Vapen"
         }
        ]
       },
       {
        "Url": "https://polisen.se/kontakt/polisstationer/stockholms-lan/stockholm-nord/sollentuna-/",
        "id": 1022,
        "location": {
         "gps": "59.426257,17.949564",
         "name": "Tingsvägen 7, Sollentuna"
        },
        "name": "Sollentuna ",
        "services": [
         {
          "name": "Anmälan"
         },
         {
          "name": "Hittegods"
         },
         {
          "name": "Pass/nationellt id-kort"
         },
         {
          "name": "Vapen"
         }
        ]
       },
       {
        "Url": "https://polisen.se/kontakt/polisstationer/stockholms-lan/stockholm-nord/solna/",
        "id": 986,
        "location": {
         "gps": "59.355097,18.001389",
         "name": "Sundbybergsvägen 15, Solna"
        },
        "name": "Solna",
        "services": [
         {
          "name": "Anmälan"
         },
         {
          "name": "Beslag"
         },
         {
          "name": "Cyklar"
         },
         {
          "name": "Hittegods"
         },
         {
          "name": "Pass/nationellt id-kort"
         },
         {
          "name": "Vapen"
         }
        ]
       },
       {
        "Url": "https://polisen.se/kontakt/polisstationer/vasterbotten/sorsele/",
        "id": 1184,
        "location": {
         "gps": "65.53494,17.539965",
         "name": "Norra Esplanaden 5, Sorsele"
        },
        "name": "Sorsele",
        "services": [
         {
          "name": "Anmälan"
         },
         {
          "name": "Hittegods"
         },
         {
          "name": "Tillstånd"
         }
        ]
       },
       {
        "Url": "https://polisen.se/kontakt/polisstationer/skane/staffanstorp/",
        "id": 936,
        "location": {
         "gps": "55.644006,13.207598",
         "name": "Torget 6, Staffanstorp"
        },
        "name": "Staffanstorp",
        "services": [
         {
          "name": "Anmälan"
         },
         {
          "name": "Hittegods"
         }
        ]
       },
       {
        "Url": "https://polisen.se/kontakt/polisstationer/vastra-gotaland/stenungsund/",
        "id": 1296,
        "location": {
         "gps": "58.06738,11.816805",
         "name": "Västanvindsgatan 4, Stenungsund"
        },
        "name": "Stenungsund",
        "services": [
         {
          "name": "Anmälan"
         },
         {
          "name": "Hittegods"
         },
         {
          "name": "Pass/nationellt id-kort"
         },
         {
          "name": "Tillstånd"
         },
         {
          "name": "Vapen"
         }
        ]
       },
       {
        "Url": "https://polisen.se/kontakt/polisstationer/stockholms-lan/stockholm-city/stockholm-city---beslag/",
        "id": 968,
        "location": {
         "gps": "59.33095,18.038141",
         "name": "Bergsgatan 54, Stockholm"
        },
        "name": "Stockholm City - Beslag",
        "services": [
         {
          "name": "Beslag"
         }
        ]
       },
       {
        "Url": "https://polisen.se/kontakt/polisstationer/stockholms-lan/stockholm-city/stockholm-city-hittegods/",
        "id": 970,
        "location": {
         "gps": "59.330584,18.057449",
         "name": "Klarabergsviadukten 49, Stockholm"
        },
        "name": "Stockholm City hittegods",
        "services": [
         {
          "name": "Cyklar"
         },
         {
          "name": "Hittegods"
         }
        ]
       },
       {
        "Url": "https://polisen.se/kontakt/polisstationer/stockholms-lan/stockholm-arlanda-/",
        "id": 1077,
        "location": {
         "gps": "59.646492,17.937797",
         "name": "Tullvägen 7A, Stockholm-Arlanda"
        },
        "name": "Stockholm-Arlanda ",
        "services": [
         {
          "name": "Anmälan"
         },
         {
          "name": "Pass/nationellt id-kort"
         },
         {
          "name": "Provisoriskt pass"
         }
        ]
       },
       {
        "Url": "https://polisen.se/kontakt/polisstationer/stockholms-lan/stockholm-city/stockholms-city-norrmalm/",
        "id": 976,
        "location": {
         "gps": "59.332252,18.038961",
         "name": "Kungsholmsgatan 43, Stockholm"
        },
        "name": "Stockholms City Norrmalm",
        "services": [
         {
          "name": "Anmälan"
         },
         {
          "name": "Hittegods"
         },
         {
          "name": "Tillstånd"
         },
         {
          "name": "Vapen"
         }
        ]
       },
       {
        "Url": "https://polisen.se/kontakt/polisstationer/stockholms-lan/stockholm-city/stockholms-city-passexpedition/",
        "id": 979,
        "location": {
         "gps": "59.330489,18.039916",
         "name": "Bergsgatan 48, Stockholm"
        },
        "name": "Stockholms City passexpedition",
        "services": [
         {
          "name": "Pass/nationellt id-kort"
         }
        ]
       },
       {
        "Url": "https://polisen.se/kontakt/polisstationer/stockholms-lan/stockholm-city/stockholms-city-sodermalm/",
        "id": 982,
        "location": {
         "gps": "59.316928,18.057505",
         "name": "Torkel Knutssonsgatan 20, Stockholm"
        },
        "name": "Stockholms City Södermalm",
        "services": [
         {
          "name": "Anmälan"
         },
         {
          "name": "Hittegods"
         },
         {
          "name": "Vapen"
         }
        ]
       },
       {
        "Url": "https://polisen.se/kontakt/polisstationer/varmland/storfors/",
        "id": 1150,
        "location": {
         "gps": "59.529933,14.273017",
         "name": "Djupadalsgatan 20, Storfors"
        },
        "name": "Storfors",
        "services": [
         {
          "name": "Anmälan"
         },
         {
          "name": "Hittegods"
         }
        ]
       },
       {
        "Url": "https://polisen.se/kontakt/polisstationer/vasterbotten/storuman/",
        "id": 1186,
        "location": {
         "gps": "65.09563,17.11404",
         "name": "Skolgatan 19, 923 31 Storuman"
        },
        "name": "Storuman",
        "services": [
         {
          "name": "Anmälan"
         },
         {
          "name": "Hittegods"
         },
         {
          "name": "Pass/nationellt id-kort"
         },
         {
          "name": "Tillstånd"
         },
         {
          "name": "Vapen"
         }
        ]
       },
       {
        "Url": "https://polisen.se/kontakt/polisstationer/sodermanland/strangnas/",
        "id": 1095,
        "location": {
         "gps": "59.367805,17.024608",
         "name": "Finningevägen 54 A, Strängnäs  "
        },
        "name": "Strängnäs",
        "services": [
         {
          "name": "Anmälan"
         },
         {
          "name": "Hittegods"
         },
         {
          "name": "Pass/nationellt id-kort"
         }
        ]
       },
       {
        "Url": "https://polisen.se/kontakt/polisstationer/vastra-gotaland/stromstad/",
        "id": 1298,
        "location": {
         "gps": "58.939241,11.171202",
         "name": "Södra Hamngatan 8 - 10, Strömstad"
        },
        "name": "Strömstad",
        "services": [
         {
          "name": "Anmälan"
         },
         {
          "name": "Hittegods"
         },
         {
          "name": "Pass/nationellt id-kort"
         },
         {
          "name": "Vapen"
         }
        ]
       },
       {
        "Url": "https://polisen.se/kontakt/polisstationer/jamtland/stromsund/",
        "id": 762,
        "location": {
         "gps": "63.853852,15.551905",
         "name": "Lagmansgatan 25, Strömsund"
        },
        "name": "Strömsund",
        "services": [
         {
          "name": "Anmälan"
         },
         {
          "name": "Cyklar"
         },
         {
          "name": "Hittegods"
         },
         {
          "name": "Pass/nationellt id-kort"
         },
         {
          "name": "Tillstånd"
         },
         {
          "name": "Vapen"
         }
        ]
       },
       {
        "Url": "https://polisen.se/kontakt/polisstationer/skane/sturup---malmo-airport/",
        "id": 938,
        "location": {
         "gps": "55.540637,13.366576",
         "name": "Flygplatsen Malmö-Sturup, "
        },
        "name": "Sturup - Malmö Airport",
        "services": [
         {
          "name": "Anmälan"
         },
         {
          "name": "Provisoriskt pass"
         }
        ]
       },
       {
        "Url": "https://polisen.se/kontakt/polisstationer/vasternorrland/sundsvall/",
        "id": 1209,
        "location": {
         "gps": "62.392034,17.295554",
         "name": "Storgatan 37, Sundsvall "
        },
        "name": "Sundsvall",
        "services": [
         {
          "name": "Anmälan"
         },
         {
          "name": "Beslag"
         },
         {
          "name": "Hittegods"
         },
         {
          "name": "Pass/nationellt id-kort"
         }
        ]
       },
       {
        "Url": "https://polisen.se/kontakt/polisstationer/varmland/sunne/",
        "id": 1152,
        "location": {
         "gps": "59.837147,13.141644",
         "name": "Långgatan 8, Sunne"
        },
        "name": "Sunne",
        "services": [
         {
          "name": "Anmälan"
         },
         {
          "name": "Hittegods"
         },
         {
          "name": "Vapen"
         }
        ]
       },
       {
        "Url": "https://polisen.se/kontakt/polisstationer/skane/svalov/",
        "id": 940,
        "location": {
         "gps": "55.913864,13.107231",
         "name": "Herrevadsgatan 11 F, Svalöv"
        },
        "name": "Svalöv",
        "services": []
       },
       {
        "Url": "https://polisen.se/kontakt/polisstationer/jamtland/sveg/",
        "id": 764,
        "location": {
         "gps": "62.032374,14.358192",
         "name": "Fjällvägen 7, Sveg"
        },
        "name": "Sveg",
        "services": [
         {
          "name": "Anmälan"
         },
         {
          "name": "Cyklar"
         },
         {
          "name": "Hittegods"
         },
         {
          "name": "Pass/nationellt id-kort"
         },
         {
          "name": "Tillstånd"
         },
         {
          "name": "Vapen"
         }
        ]
       },
       {
        "Url": "https://polisen.se/kontakt/polisstationer/vastra-gotaland/svenljunga/",
        "id": 1300,
        "location": {
         "gps": "57.499112,13.111025",
         "name": "Kommunhuset, Boråsvägen 13, Svenljunga"
        },
        "name": "Svenljunga",
        "services": []
       },
       {
        "Url": "https://polisen.se/kontakt/polisstationer/jamtland/svenstavik/",
        "id": 766,
        "location": {
         "gps": "62.767662,14.438614",
         "name": "Centrumvägen 11,  Svenstavik"
        },
        "name": "Svenstavik",
        "services": [
         {
          "name": "Anmälan"
         },
         {
          "name": "Cyklar"
         },
         {
          "name": "Hittegods"
         },
         {
          "name": "Tillstånd"
         },
         {
          "name": "Vapen"
         }
        ]
       },
       {
        "Url": "https://polisen.se/kontakt/polisstationer/varmland/saffle/",
        "id": 1156,
        "location": {
         "gps": "59.133512,12.923679",
         "name": "Hamngatan 4, Säffle"
        },
        "name": "Säffle",
        "services": [
         {
          "name": "Anmälan"
         },
         {
          "name": "Hittegods"
         },
         {
          "name": "Pass/nationellt id-kort"
         },
         {
          "name": "Vapen"
         }
        ]
       },
       {
        "Url": "https://polisen.se/kontakt/polisstationer/dalarna/salen/",
        "id": 700,
        "location": {
         "gps": "61.155826,13.268137",
         "name": "Centrumhuset, Sälen"
        },
        "name": "Sälen",
        "services": [
         {
          "name": "Anmälan"
         },
         {
          "name": "Hittegods"
         },
         {
          "name": "Tillstånd"
         }
        ]
       },
       {
        "Url": "https://polisen.se/kontakt/polisstationer/dalarna/sater/",
        "id": 702,
        "location": {
         "gps": "60.346898,15.747854",
         "name": "Kommunhuset, Åsgränd 2, Säter"
        },
        "name": "Säter",
        "services": [
         {
          "name": "Anmälan"
         },
         {
          "name": "Hittegods"
         },
         {
          "name": "Tillstånd"
         }
        ]
       },
       {
        "Url": "https://polisen.se/kontakt/polisstationer/jonkopings-lan/savsjo/",
        "id": 7518,
        "location": {
         "gps": "57.399561,14.661323",
         "name": "Mejensjögatan 6, Sävsjö"
        },
        "name": "Sävsjö",
        "services": [
         {
          "name": "Anmälan"
         },
         {
          "name": "Hittegods"
         }
        ]
       },
       {
        "Url": "https://polisen.se/kontakt/polisstationer/gavleborg/soderhamn/",
        "id": 732,
        "location": {
         "gps": "61.304731,17.06082",
         "name": "Köpmangatan 21, Söderhamn"
        },
        "name": "Söderhamn",
        "services": [
         {
          "name": "Anmälan"
         },
         {
          "name": "Hittegods"
         },
         {
          "name": "Tillstånd"
         }
        ]
       },
       {
        "Url": "https://polisen.se/kontakt/polisstationer/ostergotland/soderkoping/",
        "id": 1360,
        "location": {
         "gps": "58.4801,16.323701",
         "name": "Skönbergagatan 2, Söderköping"
        },
        "name": "Söderköping",
        "services": [
         {
          "name": "Anmälan"
         },
         {
          "name": "Hittegods"
         },
         {
          "name": "Tillstånd"
         }
        ]
       },
       {
        "Url": "https://polisen.se/kontakt/polisstationer/stockholms-lan/stockholm-syd/sodertalje/",
        "id": 1071,
        "location": {
         "gps": "59.187927,17.628206",
         "name": "Nyköpingsvägen 23, Södertälje"
        },
        "name": "Södertälje",
        "services": [
         {
          "name": "Anmälan"
         },
         {
          "name": "Beslag"
         },
         {
          "name": "Pass/nationellt id-kort"
         },
         {
          "name": "Vapen"
         }
        ]
       },
       {
        "Url": "https://polisen.se/kontakt/polisstationer/blekinge/solvesborg/",
        "id": 671,
        "location": {
         "gps": "56.051724,14.582851",
         "name": "Järnvägsgatan 2 , Sölvesborg"
        },
        "name": "Sölvesborg",
        "services": [
         {
          "name": "Anmälan"
         }
        ]
       },
       {
        "Url": "https://polisen.se/kontakt/polisstationer/uppsala-lan/tierp/",
        "id": 1114,
        "location": {
         "gps": "60.341657,17.511625",
         "name": "Gävlevägen 25, Tierp"
        },
        "name": "Tierp",
        "services": [
         {
          "name": "Anmälan"
         },
         {
          "name": "Beslag"
         },
         {
          "name": "Cyklar"
         },
         {
          "name": "Delgivning"
         },
         {
          "name": "Hittegods"
         },
         {
          "name": "Pass/nationellt id-kort"
         },
         {
          "name": "Tillstånd"
         },
         {
          "name": "Vapen"
         }
        ]
       },
       {
        "Url": "https://polisen.se/kontakt/polisstationer/kronoberg/tingsryd/",
        "id": 819,
        "location": {
         "gps": "56.525552,14.979028",
         "name": "Torggatan 5, Tingsryd"
        },
        "name": "Tingsryd",
        "services": [
         {
          "name": "Anmälan"
         },
         {
          "name": "Cyklar"
         },
         {
          "name": "Hittegods"
         }
        ]
       },
       {
        "Url": "https://polisen.se/kontakt/polisstationer/skane/tomelilla/",
        "id": 944,
        "location": {
         "gps": "55.542451,13.957077",
         "name": "Gustafs Torg 16, Tomelilla"
        },
        "name": "Tomelilla",
        "services": [
         {
          "name": "Anmälan"
         }
        ]
       },
       {
        "Url": "https://polisen.se/kontakt/polisstationer/varmland/torsby/",
        "id": 1158,
        "location": {
         "gps": "60.146983,13.005797",
         "name": "Bergebyvägen 22, Torsby"
        },
        "name": "Torsby",
        "services": [
         {
          "name": "Anmälan"
         },
         {
          "name": "Hittegods"
         },
         {
          "name": "Pass/nationellt id-kort"
         },
         {
          "name": "Vapen"
         }
        ]
       },
       {
        "Url": "https://polisen.se/kontakt/polisstationer/kalmar-lan/torsas/",
        "id": 804,
        "location": {
         "gps": "56.411347,15.996177",
         "name": "Karlskronavägen 7, Torsås"
        },
        "name": "Torsås",
        "services": [
         {
          "name": "Anmälan"
         },
         {
          "name": "Hittegods"
         }
        ]
       },
       {
        "Url": "https://polisen.se/kontakt/polisstationer/jonkopings-lan/tranas/",
        "id": 781,
        "location": {
         "gps": "58.035216,14.985098",
         "name": "Falkgatan 19, Tranås"
        },
        "name": "Tranås",
        "services": [
         {
          "name": "Anmälan"
         },
         {
          "name": "Hittegods"
         }
        ]
       },
       {
        "Url": "https://polisen.se/kontakt/polisstationer/skane/trelleborg/",
        "id": 946,
        "location": {
         "gps": "55.371824,13.167215",
         "name": "Henry Dunkers gata 2, Trelleborg"
        },
        "name": "Trelleborg",
        "services": [
         {
          "name": "Anmälan"
         },
         {
          "name": "Hittegods"
         },
         {
          "name": "Pass/nationellt id-kort"
         }
        ]
       },
       {
        "Url": "https://polisen.se/kontakt/polisstationer/vastra-gotaland/trollhattan/",
        "id": 1306,
        "location": {
         "gps": "58.280147,12.290657",
         "name": "Klintvägen 2, Trollhättan"
        },
        "name": "Trollhättan",
        "services": [
         {
          "name": "Anmälan"
         },
         {
          "name": "Cyklar"
         },
         {
          "name": "Delgivning"
         },
         {
          "name": "Hittegods"
         },
         {
          "name": "Pass/nationellt id-kort"
         },
         {
          "name": "Tillstånd"
         },
         {
          "name": "Vapen"
         }
        ]
       },
       {
        "Url": "https://polisen.se/kontakt/polisstationer/stockholms-lan/stockholm-nord/taby/",
        "id": 1010,
        "location": {
         "gps": "59.445024,18.06899",
         "name": "Biblioteksgången 11, Täby"
        },
        "name": "Täby",
        "services": [
         {
          "name": "Anmälan"
         },
         {
          "name": "Hittegods"
         },
         {
          "name": "Pass/nationellt id-kort"
         },
         {
          "name": "Vapen"
         }
        ]
       },
       {
        "Url": "https://polisen.se/kontakt/polisstationer/vasterbotten/tarnaby/",
        "id": 1188,
        "location": {
         "gps": "65.711357,15.255791",
         "name": "Västra Strandvägen 11, 920 64 Tärnaby"
        },
        "name": "Tärnaby",
        "services": [
         {
          "name": "Anmälan"
         },
         {
          "name": "Hittegods"
         },
         {
          "name": "Tillstånd"
         }
        ]
       },
       {
        "Url": "https://polisen.se/kontakt/polisstationer/vastra-gotaland/uddevalla/",
        "id": 1308,
        "location": {
         "gps": "58.351256,11.940227",
         "name": "Lagerbergsgatan 35, Uddevalla"
        },
        "name": "Uddevalla",
        "services": [
         {
          "name": "Anmälan"
         },
         {
          "name": "Hittegods"
         },
         {
          "name": "Pass/nationellt id-kort"
         },
         {
          "name": "Tillstånd"
         }
        ]
       },
       {
        "Url": "https://polisen.se/kontakt/polisstationer/halland/ullared/",
        "id": 745,
        "location": {
         "gps": "57.136397,12.716861",
         "name": "Varbergsvägen 3, Ullared"
        },
        "name": "Ullared",
        "services": [
         {
          "name": "Anmälan"
         },
         {
          "name": "Hittegods"
         },
         {
          "name": "Tillstånd"
         }
        ]
       },
       {
        "Url": "https://polisen.se/kontakt/polisstationer/vastra-gotaland/ulricehamn/",
        "id": 1310,
        "location": {
         "gps": "57.797663,13.413872",
         "name": "Boråsvägen 18, Ulricehamn"
        },
        "name": "Ulricehamn",
        "services": [
         {
          "name": "Anmälan"
         },
         {
          "name": "Hittegods"
         },
         {
          "name": "Pass/nationellt id-kort"
         }
        ]
       },
       {
        "Url": "https://polisen.se/kontakt/polisstationer/vasterbotten/umea/",
        "id": 1190,
        "location": {
         "gps": "63.834216,20.2500198",
         "name": "Ridvägen 10, 903 25 Umeå"
        },
        "name": "Umeå",
        "services": [
         {
          "name": "Anmälan"
         },
         {
          "name": "Beslag"
         },
         {
          "name": "Cyklar"
         },
         {
          "name": "Hittegods"
         },
         {
          "name": "Pass/nationellt id-kort"
         },
         {
          "name": "Provisoriskt pass"
         },
         {
          "name": "Tillstånd"
         },
         {
          "name": "Vapen"
         }
        ]
       },
       {
        "Url": "https://polisen.se/kontakt/polisstationer/stockholms-lan/stockholm-nord/upplands-vasby-omradeskontor2/",
        "id": 108405,
        "location": {
         "gps": "59.521578,17.90155",
         "name": "Centralvägen, Industrivägen Upplands Väsby, "
        },
        "name": "Upplands Väsby områdeskontor",
        "services": []
       },
       {
        "Url": "https://polisen.se/kontakt/polisstationer/stockholms-lan/stockholm-nord/upplands-bro/",
        "id": 1028,
        "location": {
         "gps": "59.478725,17.752009",
         "name": "Kommunhuset, Furuhällsplan 1, Kungsängen"
        },
        "name": "Upplands-Bro områdeskontor",
        "services": [
         {
          "name": "Anmälan"
         }
        ]
       },
       {
        "Url": "https://polisen.se/kontakt/polisstationer/uppsala-lan/uppsala/",
        "id": 1117,
        "location": {
         "gps": "59.865528,17.630946",
         "name": "Svartbäcksgatan 49, Uppsala"
        },
        "name": "Uppsala",
        "services": [
         {
          "name": "Anmälan"
         },
         {
          "name": "Delgivning"
         },
         {
          "name": "Hittegods"
         },
         {
          "name": "Pass/nationellt id-kort"
         },
         {
          "name": "Vapen"
         }
        ]
       },
       {
        "Url": "https://polisen.se/kontakt/polisstationer/uppsala-lan/uppsala---beslagsgruppen/",
        "id": 1119,
        "location": {
         "gps": "59.855237,17.664572",
         "name": "Knivstagatan 16, Boländerna, Uppsala"
        },
        "name": "Uppsala - Beslagsgruppen",
        "services": [
         {
          "name": "Beslag"
         },
         {
          "name": "Cyklar"
         },
         {
          "name": "Hittegods"
         }
        ]
       },
       {
        "Url": "https://polisen.se/kontakt/polisstationer/ostergotland/vadstena/",
        "id": 1362,
        "location": {
         "gps": "58.44665,14.888587",
         "name": "Knivsmedsgatan 3, Vadstena"
        },
        "name": "Vadstena",
        "services": [
         {
          "name": "Anmälan"
         }
        ]
       },
       {
        "Url": "https://polisen.se/kontakt/polisstationer/sodermanland/vagnharad/",
        "id": 1097,
        "location": {
         "gps": "58.945841,17.485391",
         "name": "Vagnhärads Torg 1D, Vagnhärad"
        },
        "name": "Vagnhärad",
        "services": [
         {
          "name": "Anmälan"
         },
         {
          "name": "Hittegods"
         }
        ]
       },
       {
        "Url": "https://polisen.se/kontakt/polisstationer/ostergotland/valdemarsvik/",
        "id": 1364,
        "location": {
         "gps": "58.205143,16.600564",
         "name": "Garvaregatan 3, Valdemarsvik"
        },
        "name": "Valdemarsvik",
        "services": [
         {
          "name": "Anmälan"
         },
         {
          "name": "Hittegods"
         },
         {
          "name": "Tillstånd"
         },
         {
          "name": "Vapen"
         }
        ]
       },
       {
        "Url": "https://polisen.se/kontakt/polisstationer/stockholms-lan/stockholm-nord/vallentuna/",
        "id": 1013,
        "location": {
         "gps": "59.534261,18.076655",
         "name": "Kulturhuset, Allévägen 1, Vallentuna"
        },
        "name": "Vallentuna områdeskontor",
        "services": [
         {
          "name": "Anmälan"
         }
        ]
       },
       {
        "Url": "https://polisen.se/kontakt/polisstationer/dalarna/vansbro/",
        "id": 704,
        "location": {
         "gps": "60.51082,14.2235",
         "name": "Norra Allégatan 30, Vansbro"
        },
        "name": "Vansbro",
        "services": [
         {
          "name": "Anmälan"
         },
         {
          "name": "Hittegods"
         },
         {
          "name": "Tillstånd"
         }
        ]
       },
       {
        "Url": "https://polisen.se/kontakt/polisstationer/vastra-gotaland/vara/",
        "id": 1312,
        "location": {
         "gps": "58.261108,12.95279",
         "name": "Drottninggatan 1, Vara"
        },
        "name": "Vara",
        "services": [
         {
          "name": "Anmälan"
         },
         {
          "name": "Hittegods"
         }
        ]
       },
       {
        "Url": "https://polisen.se/kontakt/polisstationer/halland/varberg/",
        "id": 747,
        "location": {
         "gps": "57.111451,12.255091",
         "name": "Östra Långgatan 5, Varberg"
        },
        "name": "Varberg",
        "services": [
         {
          "name": "Anmälan"
         },
         {
          "name": "Hittegods"
         },
         {
          "name": "Pass/nationellt id-kort"
         },
         {
          "name": "Tillstånd"
         }
        ]
       },
       {
        "Url": "https://polisen.se/kontakt/polisstationer/stockholms-lan/stockholm-nord/vaxholm/",
        "id": 1016,
        "location": {
         "gps": "59.4047731,18.3157138",
         "name": "Eriksövägen 27, Vaxholm"
        },
        "name": "Vaxholm områdeskontor",
        "services": [
         {
          "name": "Anmälan"
         }
        ]
       },
       {
        "Url": "https://polisen.se/kontakt/polisstationer/jonkopings-lan/vetlanda/",
        "id": 783,
        "location": {
         "gps": "57.424844,15.090357",
         "name": "Missionsgatan 4, Vetlanda"
        },
        "name": "Vetlanda",
        "services": [
         {
          "name": "Anmälan"
         },
         {
          "name": "Hittegods"
         }
        ]
       },
       {
        "Url": "https://polisen.se/kontakt/polisstationer/vasterbotten/vilhelmina/",
        "id": 1192,
        "location": {
         "gps": "64.61509,16.68489",
         "name": "Terminalgatan 2, 912 32 Vilhelmina"
        },
        "name": "Vilhelmina",
        "services": [
         {
          "name": "Anmälan"
         },
         {
          "name": "Hittegods"
         },
         {
          "name": "Pass/nationellt id-kort"
         },
         {
          "name": "Tillstånd"
         },
         {
          "name": "Vapen"
         }
        ]
       },
       {
        "Url": "https://polisen.se/kontakt/polisstationer/kalmar-lan/vimmerby/",
        "id": 806,
        "location": {
         "gps": "57.668271,15.861861",
         "name": "Kungsgatan 10, Vimmerby"
        },
        "name": "Vimmerby",
        "services": [
         {
          "name": "Anmälan"
         },
         {
          "name": "Cyklar"
         },
         {
          "name": "Delgivning"
         },
         {
          "name": "Hittegods"
         }
        ]
       },
       {
        "Url": "https://polisen.se/kontakt/polisstationer/vasterbotten/vindeln/",
        "id": 1194,
        "location": {
         "gps": "64.202599,19.718721",
         "name": "Torggränd 10A, 922 32 Vindeln"
        },
        "name": "Vindeln",
        "services": [
         {
          "name": "Anmälan"
         },
         {
          "name": "Hittegods"
         }
        ]
       },
       {
        "Url": "https://polisen.se/kontakt/polisstationer/sodermanland/vingaker/",
        "id": 1099,
        "location": {
         "gps": "59.049361,15.874967",
         "name": "Åbrogården, Storgatan 55, Vingåker"
        },
        "name": "Vingåker",
        "services": [
         {
          "name": "Anmälan"
         }
        ]
       },
       {
        "Url": "https://polisen.se/kontakt/polisstationer/gotland/visby/",
        "id": 711,
        "location": {
         "gps": "57.63735,18.305441",
         "name": "Norra Hansegatan 2 B, Visby"
        },
        "name": "Visby",
        "services": [
         {
          "name": "Anmälan"
         },
         {
          "name": "Beslag"
         },
         {
          "name": "Cyklar"
         },
         {
          "name": "Hittegods"
         },
         {
          "name": "Pass/nationellt id-kort"
         },
         {
          "name": "Tillstånd"
         },
         {
          "name": "Vapen"
         }
        ]
       },
       {
        "Url": "https://polisen.se/kontakt/polisstationer/orebro-lan/vivalla/",
        "id": 85875,
        "location": {
         "gps": "59.2988,15.18883",
         "name": "Poesigatan 20, Örebro"
        },
        "name": "Vivalla",
        "services": [
         {
          "name": "Anmälan"
         },
         {
          "name": "Tillstånd"
         }
        ]
       },
       {
        "Url": "https://polisen.se/kontakt/polisstationer/vastra-gotaland/vargarda/",
        "id": 1314,
        "location": {
         "gps": "58.033216,12.809188",
         "name": "Kungsgatan 40, Vårgårda"
        },
        "name": "Vårgårda",
        "services": [
         {
          "name": "Anmälan"
         },
         {
          "name": "Hittegods"
         }
        ]
       },
       {
        "Url": "https://polisen.se/kontakt/polisstationer/stockholms-lan/stockholm-nord/vallingby/",
        "id": 992,
        "location": {
         "gps": "59.363596,17.87243",
         "name": "Pajalagatan 46, Vällingby"
        },
        "name": "Vällingby",
        "services": [
         {
          "name": "Anmälan"
         },
         {
          "name": "Hittegods"
         },
         {
          "name": "Vapen"
         }
        ]
       },
       {
        "Url": "https://polisen.se/kontakt/polisstationer/vastra-gotaland/vanersborg/",
        "id": 1316,
        "location": {
         "gps": "58.384319,12.323687",
         "name": "Residensgatan 30, Vänersborg"
        },
        "name": "Vänersborg",
        "services": [
         {
          "name": "Anmälan"
         },
         {
          "name": "Cyklar"
         },
         {
          "name": "Delgivning"
         },
         {
          "name": "Hittegods"
         },
         {
          "name": "Tillstånd"
         }
        ]
       },
       {
        "Url": "https://polisen.se/kontakt/polisstationer/vasterbotten/vannas/",
        "id": 1196,
        "location": {
         "gps": "63.90429,19.752756",
         "name": "Norrlandsgatan 2, 911 33 Vännäs"
        },
        "name": "Vännäs",
        "services": [
         {
          "name": "Anmälan"
         },
         {
          "name": "Hittegods"
         },
         {
          "name": "Tillstånd"
         }
        ]
       },
       {
        "Url": "https://polisen.se/kontakt/polisstationer/jonkopings-lan/varnamo/",
        "id": 785,
        "location": {
         "gps": "57.183344,14.050065",
         "name": "Storgatan 53, Värnamo"
        },
        "name": "Värnamo",
        "services": [
         {
          "name": "Anmälan"
         },
         {
          "name": "Beslag"
         },
         {
          "name": "Hittegods"
         },
         {
          "name": "Pass/nationellt id-kort"
         }
        ]
       },
       {
        "Url": "https://polisen.se/kontakt/polisstationer/stockholms-lan/stockholm-syd/vastberga/",
        "id": 1068,
        "location": {
         "gps": "59.291954,18.011047",
         "name": "Västberga Gårdsväg 52, Hägersten"
        },
        "name": "Västberga",
        "services": [
         {
          "name": "Beslag"
         },
         {
          "name": "Hittegods"
         }
        ]
       },
       {
        "Url": "https://polisen.se/kontakt/polisstationer/kalmar-lan/vastervik/",
        "id": 808,
        "location": {
         "gps": "57.766423,16.619759",
         "name": "Breviksvägen 35, Västervik"
        },
        "name": "Västervik",
        "services": [
         {
          "name": "Anmälan"
         },
         {
          "name": "Cyklar"
         },
         {
          "name": "Delgivning"
         },
         {
          "name": "Hittegods"
         },
         {
          "name": "Pass/nationellt id-kort"
         }
        ]
       },
       {
        "Url": "https://polisen.se/kontakt/polisstationer/vastmanland/vasteras/",
        "id": 1230,
        "location": {
         "gps": "59.607646,16.542119",
         "name": "Västgötegatan 7, Västerås"
        },
        "name": "Västerås",
        "services": [
         {
          "name": "Anmälan"
         },
         {
          "name": "Cyklar"
         },
         {
          "name": "Hittegods"
         },
         {
          "name": "Pass/nationellt id-kort"
         },
         {
          "name": "Provisoriskt pass"
         }
        ]
       },
       {
        "Url": "https://polisen.se/kontakt/polisstationer/kronoberg/vaxjo-/",
        "id": 821,
        "location": {
         "gps": "56.878276,14.798882",
         "name": "Sandgärdsgatan 31, Växjö"
        },
        "name": "Växjö ",
        "services": [
         {
          "name": "Anmälan"
         },
         {
          "name": "Delgivning"
         },
         {
          "name": "Hittegods"
         },
         {
          "name": "Pass/nationellt id-kort"
         }
        ]
       },
       {
        "Url": "https://polisen.se/kontakt/polisstationer/kronoberg/vaxjo-cykelforrad/",
        "id": 823,
        "location": {
         "gps": "56.877393,14.797177",
         "name": "Krukmakaregatan 1, Växjö"
        },
        "name": "Växjö cykelförråd",
        "services": [
         {
          "name": "Cyklar"
         }
        ]
       },
       {
        "Url": "https://polisen.se/kontakt/polisstationer/kronoberg/vaxjo-dalbo/",
        "id": 825,
        "location": {
         "gps": "56.89067,14.797639",
         "name": "Brittsommarvägen 2, Växjö"
        },
        "name": "Växjö Dalbo",
        "services": []
       },
       {
        "Url": "https://polisen.se/kontakt/polisstationer/skane/ystad/",
        "id": 950,
        "location": {
         "gps": "55.43936,13.82716",
         "name": "Kristianstadsvägen 51, Ystad"
        },
        "name": "Ystad",
        "services": [
         {
          "name": "Anmälan"
         },
         {
          "name": "Beslag"
         },
         {
          "name": "Cyklar"
         },
         {
          "name": "Hittegods"
         },
         {
          "name": "Pass/nationellt id-kort"
         }
        ]
       },
       {
        "Url": "https://polisen.se/kontakt/polisstationer/skane/ahus/",
        "id": 952,
        "location": {
         "gps": "55.926898,14.300058",
         "name": "Järnvägsgatan 7, Åhus"
        },
        "name": "Åhus",
        "services": [
         {
          "name": "Anmälan"
         },
         {
          "name": "Cyklar"
         },
         {
          "name": "Hittegods"
         }
        ]
       },
       {
        "Url": "https://polisen.se/kontakt/polisstationer/stockholms-lan/stockholm-nord/akersberga/",
        "id": 1019,
        "location": {
         "gps": "59.480103,18.29529",
         "name": "Storängstorget 4, Åkersberga"
        },
        "name": "Åkersberga områdeskontor",
        "services": [
         {
          "name": "Anmälan"
         }
        ]
       },
       {
        "Url": "https://polisen.se/kontakt/polisstationer/vastra-gotaland/amal/",
        "id": 1318,
        "location": {
         "gps": "59.051271,12.704634",
         "name": "Norra Långgatan 18, Åmål"
        },
        "name": "Åmål",
        "services": [
         {
          "name": "Anmälan"
         },
         {
          "name": "Cyklar"
         },
         {
          "name": "Delgivning"
         },
         {
          "name": "Hittegods"
         },
         {
          "name": "Pass/nationellt id-kort"
         },
         {
          "name": "Tillstånd"
         },
         {
          "name": "Vapen"
         }
        ]
       },
       {
        "Url": "https://polisen.se/kontakt/polisstationer/vasternorrland/ange/",
        "id": 1211,
        "location": {
         "gps": "62.524741,15.664624",
         "name": "Fridhemsvägen 6, Ånge"
        },
        "name": "Ånge",
        "services": [
         {
          "name": "Anmälan"
         },
         {
          "name": "Pass/nationellt id-kort"
         }
        ]
       },
       {
        "Url": "https://polisen.se/kontakt/polisstationer/jamtland/are/",
        "id": 5639,
        "location": {
         "gps": "63.394506,13.096971",
         "name": "Kurortsvägen 20, Åre"
        },
        "name": "Åre",
        "services": [
         {
          "name": "Anmälan"
         },
         {
          "name": "Beslag"
         },
         {
          "name": "Cyklar"
         },
         {
          "name": "Hittegods"
         },
         {
          "name": "Pass/nationellt id-kort"
         },
         {
          "name": "Tillstånd"
         },
         {
          "name": "Vapen"
         }
        ]
       },
       {
        "Url": "https://polisen.se/kontakt/polisstationer/varmland/arjang/",
        "id": 1160,
        "location": {
         "gps": "59.39313,12.133889",
         "name": "Storgatan 66, Årjäng"
        },
        "name": "Årjäng",
        "services": [
         {
          "name": "Anmälan"
         },
         {
          "name": "Hittegods"
         },
         {
          "name": "Pass/nationellt id-kort"
         }
        ]
       },
       {
        "Url": "https://polisen.se/kontakt/polisstationer/kronoberg/aseda/",
        "id": 827,
        "location": {
         "gps": "57.171215,15.344492",
         "name": "Olofsgatan 8, Åseda"
        },
        "name": "Åseda",
        "services": [
         {
          "name": "Anmälan"
         },
         {
          "name": "Hittegods"
         }
        ]
       },
       {
        "Url": "https://polisen.se/kontakt/polisstationer/vasterbotten/asele/",
        "id": 1198,
        "location": {
         "gps": "64.16182,17.354",
         "name": "Lillgatan 6, 919 32 Åsele"
        },
        "name": "Åsele",
        "services": [
         {
          "name": "Anmälan"
         },
         {
          "name": "Hittegods"
         },
         {
          "name": "Tillstånd"
         },
         {
          "name": "Vapen"
         }
        ]
       },
       {
        "Url": "https://polisen.se/kontakt/polisstationer/skane/astorp/",
        "id": 954,
        "location": {
         "gps": "56.134485,12.94856",
         "name": "Storgatan 5, Åstorp"
        },
        "name": "Åstorp",
        "services": [
         {
          "name": "Anmälan"
         },
         {
          "name": "Cyklar"
         },
         {
          "name": "Hittegods"
         }
        ]
       },
       {
        "Url": "https://polisen.se/kontakt/polisstationer/ostergotland/atvidaberg/",
        "id": 1366,
        "location": {
         "gps": "58.201018,15.998716",
         "name": "Stenhusgatan 6A, Åtvidaberg"
        },
        "name": "Åtvidaberg",
        "services": [
         {
          "name": "Anmälan"
         }
        ]
       },
       {
        "Url": "https://polisen.se/kontakt/polisstationer/kronoberg/almhult/",
        "id": 829,
        "location": {
         "gps": "56.540069,14.12805",
         "name": "Bäckgatan 17, Älmhult"
        },
        "name": "Älmhult",
        "services": [
         {
          "name": "Anmälan"
         },
         {
          "name": "Cyklar"
         },
         {
          "name": "Hittegods"
         },
         {
          "name": "Pass/nationellt id-kort"
         }
        ]
       },
       {
        "Url": "https://polisen.se/kontakt/polisstationer/dalarna/alvdalen/",
        "id": 706,
        "location": {
         "gps": "61.228253,14.04017",
         "name": "Permatsvägen 1, Älvdalen"
        },
        "name": "Älvdalen",
        "services": [
         {
          "name": "Anmälan"
         },
         {
          "name": "Hittegods"
         },
         {
          "name": "Tillstånd"
         }
        ]
       },
       {
        "Url": "https://polisen.se/kontakt/polisstationer/norrbotten/alvsbyn/",
        "id": 867,
        "location": {
         "gps": "65.677241,20.997854",
         "name": "Storgatan 43, Älvsbyn"
        },
        "name": "Älvsbyn",
        "services": [
         {
          "name": "Anmälan"
         },
         {
          "name": "Cyklar"
         },
         {
          "name": "Hittegods"
         }
        ]
       },
       {
        "Url": "https://polisen.se/kontakt/polisstationer/skane/angelholm/",
        "id": 956,
        "location": {
         "gps": "56.24865,12.871691",
         "name": "Polisgatan 2, Ängelholm"
        },
        "name": "Ängelholm",
        "services": [
         {
          "name": "Anmälan"
         },
         {
          "name": "Cyklar"
         },
         {
          "name": "Hittegods"
         },
         {
          "name": "Pass/nationellt id-kort"
         }
        ]
       },
       {
        "Url": "https://polisen.se/kontakt/polisstationer/ostergotland/odeshog/",
        "id": 1368,
        "location": {
         "gps": "58.229398,14.655137",
         "name": "Tingshusgatan 4, Ödeshög"
        },
        "name": "Ödeshög",
        "services": [
         {
          "name": "Anmälan"
         },
         {
          "name": "Cyklar"
         },
         {
          "name": "Hittegods"
         },
         {
          "name": "Vapen"
         }
        ]
       },
       {
        "Url": "https://polisen.se/kontakt/polisstationer/orebro-lan/orebro/",
        "id": 1343,
        "location": {
         "gps": "59.278136,15.216131",
         "name": "Järnvägsgatan 3, Örebro"
        },
        "name": "Örebro",
        "services": [
         {
          "name": "Anmälan"
         },
         {
          "name": "Hittegods"
         },
         {
          "name": "Pass/nationellt id-kort"
         }
        ]
       },
       {
        "Url": "https://polisen.se/kontakt/polisstationer/skane/orkelljunga/",
        "id": 958,
        "location": {
         "gps": "56.283547,13.281082",
         "name": "Stockholmsvägen 2, Örkelljunga"
        },
        "name": "Örkelljunga",
        "services": [
         {
          "name": "Anmälan"
         },
         {
          "name": "Cyklar"
         },
         {
          "name": "Hittegods"
         }
        ]
       },
       {
        "Url": "https://polisen.se/kontakt/polisstationer/vasternorrland/ornskoldsvik/",
        "id": 1213,
        "location": {
         "gps": "63.292551,18.718383",
         "name": "Nytorgsgatan 1, Örnsköldsvik"
        },
        "name": "Örnsköldsvik",
        "services": [
         {
          "name": "Anmälan"
         },
         {
          "name": "Pass/nationellt id-kort"
         },
         {
          "name": "Vapen"
         }
        ]
       },
       {
        "Url": "https://polisen.se/kontakt/polisstationer/ostergotland/osterbymo/",
        "id": 1370,
        "location": {
         "gps": "57.82471,15.27425",
         "name": "Bondegatan 5, Österbymo"
        },
        "name": "Österbymo",
        "services": [
         {
          "name": "Anmälan"
         }
        ]
       },
       {
        "Url": "https://polisen.se/kontakt/polisstationer/jamtland/ostersund/",
        "id": 768,
        "location": {
         "gps": "63.176285,14.660373",
         "name": "Fyrvallavägen 4, Östersund"
        },
        "name": "Östersund",
        "services": [
         {
          "name": "Anmälan"
         },
         {
          "name": "Beslag"
         },
         {
          "name": "Delgivning"
         },
         {
          "name": "Hittegods"
         },
         {
          "name": "Pass/nationellt id-kort"
         },
         {
          "name": "Tillstånd"
         },
         {
          "name": "Vapen"
         }
        ]
       },
       {
        "Url": "https://polisen.se/kontakt/polisstationer/uppsala-lan/osthammar/",
        "id": 1124,
        "location": {
         "gps": "60.259612,18.36821",
         "name": "Klockaregatan 11, Östhammar"
        },
        "name": "Östhammar",
        "services": [
         {
          "name": "Anmälan"
         },
         {
          "name": "Beslag"
         },
         {
          "name": "Cyklar"
         },
         {
          "name": "Delgivning"
         },
         {
          "name": "Hittegods"
         },
         {
          "name": "Pass/nationellt id-kort"
         },
         {
          "name": "Tillstånd"
         }
        ]
       },
       {
        "Url": "https://polisen.se/kontakt/polisstationer/norrbotten/overkalix/",
        "id": 869,
        "location": {
         "gps": "66.388553,22.83961",
         "name": "Skolgatan 1, Överkalix"
        },
        "name": "Överkalix",
        "services": [
         {
          "name": "Anmälan"
         }
        ]
       },
       {
        "Url": "https://polisen.se/kontakt/polisstationer/norrbotten/overtornea/",
        "id": 871,
        "location": {
         "gps": "66.389235,23.656569",
         "name": "Sockenvägen 32, Övertorneå"
        },
        "name": "Övertorneå",
        "services": [
         {
          "name": "Anmälan"
         }
        ]
       }
      ],
      "text/plain": [
       "<IPython.core.display.JSON object>"
      ]
     },
     "execution_count": 3,
     "metadata": {
      "application/json": {
       "expanded": false,
       "root": "root"
      }
     },
     "output_type": "execute_result"
    }
   ],
   "source": [
    "# Call the API\n",
    "reqPolisStation = requests.get(urlPolisStation)\n",
    "\n",
    "# Ensure we fail fast if the web request failed\n",
    "reqPolisStation.raise_for_status()\n",
    "\n",
    "dataPolisStation = json.loads(reqPolisStation.text)\n",
    "JSON(dataPolisStation)"
   ]
  },
  {
   "cell_type": "code",
   "execution_count": 4,
   "metadata": {},
   "outputs": [],
   "source": [
    "import pandas as pd\n",
    "from pandas.io.json import json_normalize\n",
    "dfPolisStations = json_normalize(dataPolisStation)"
   ]
  },
  {
   "cell_type": "code",
   "execution_count": 5,
   "metadata": {},
   "outputs": [
    {
     "data": {
      "text/html": [
       "<div>\n",
       "<style scoped>\n",
       "    .dataframe tbody tr th:only-of-type {\n",
       "        vertical-align: middle;\n",
       "    }\n",
       "\n",
       "    .dataframe tbody tr th {\n",
       "        vertical-align: top;\n",
       "    }\n",
       "\n",
       "    .dataframe thead th {\n",
       "        text-align: right;\n",
       "    }\n",
       "</style>\n",
       "<table border=\"1\" class=\"dataframe\">\n",
       "  <thead>\n",
       "    <tr style=\"text-align: right;\">\n",
       "      <th></th>\n",
       "      <th>Url</th>\n",
       "      <th>id</th>\n",
       "      <th>location.gps</th>\n",
       "      <th>location.name</th>\n",
       "      <th>name</th>\n",
       "      <th>services</th>\n",
       "    </tr>\n",
       "  </thead>\n",
       "  <tbody>\n",
       "    <tr>\n",
       "      <th>0</th>\n",
       "      <td>https://polisen.se/kontakt/polisstationer/vast...</td>\n",
       "      <td>1233</td>\n",
       "      <td>57.930105,12.529608</td>\n",
       "      <td>N Strömgatan 8, Alingsås</td>\n",
       "      <td>Alingsås</td>\n",
       "      <td>[{'name': 'Anmälan'}, {'name': 'Cyklar'}, {'na...</td>\n",
       "    </tr>\n",
       "    <tr>\n",
       "      <th>1</th>\n",
       "      <td>https://polisen.se/kontakt/polisstationer/kron...</td>\n",
       "      <td>811</td>\n",
       "      <td>56.900514,14.555233</td>\n",
       "      <td>Värendsgatan 14, Alvesta</td>\n",
       "      <td>Alvesta</td>\n",
       "      <td>[{'name': 'Anmälan'}, {'name': 'Hittegods'}]</td>\n",
       "    </tr>\n",
       "    <tr>\n",
       "      <th>2</th>\n",
       "      <td>https://polisen.se/kontakt/polisstationer/jonk...</td>\n",
       "      <td>7519</td>\n",
       "      <td>57.836076,14.807909</td>\n",
       "      <td>Stigbergsvägen 11, Aneby</td>\n",
       "      <td>Aneby</td>\n",
       "      <td>[{'name': 'Anmälan'}, {'name': 'Hittegods'}]</td>\n",
       "    </tr>\n",
       "    <tr>\n",
       "      <th>3</th>\n",
       "      <td>https://polisen.se/kontakt/polisstationer/vast...</td>\n",
       "      <td>1216</td>\n",
       "      <td>59.39417,15.840519</td>\n",
       "      <td>Järntorget 8, Arboga</td>\n",
       "      <td>Arboga</td>\n",
       "      <td>[{'name': 'Anmälan'}, {'name': 'Hittegods'}, {...</td>\n",
       "    </tr>\n",
       "    <tr>\n",
       "      <th>4</th>\n",
       "      <td>https://polisen.se/kontakt/polisstationer/norr...</td>\n",
       "      <td>832</td>\n",
       "      <td>66.052216,17.893128</td>\n",
       "      <td>Tingsbacka, Storgatan 20   , Arjeplog</td>\n",
       "      <td>Arjeplog</td>\n",
       "      <td>[{'name': 'Anmälan'}, {'name': 'Cyklar'}, {'na...</td>\n",
       "    </tr>\n",
       "  </tbody>\n",
       "</table>\n",
       "</div>"
      ],
      "text/plain": [
       "                                                 Url    id  \\\n",
       "0  https://polisen.se/kontakt/polisstationer/vast...  1233   \n",
       "1  https://polisen.se/kontakt/polisstationer/kron...   811   \n",
       "2  https://polisen.se/kontakt/polisstationer/jonk...  7519   \n",
       "3  https://polisen.se/kontakt/polisstationer/vast...  1216   \n",
       "4  https://polisen.se/kontakt/polisstationer/norr...   832   \n",
       "\n",
       "          location.gps                          location.name      name  \\\n",
       "0  57.930105,12.529608               N Strömgatan 8, Alingsås  Alingsås   \n",
       "1  56.900514,14.555233               Värendsgatan 14, Alvesta   Alvesta   \n",
       "2  57.836076,14.807909               Stigbergsvägen 11, Aneby     Aneby   \n",
       "3   59.39417,15.840519                   Järntorget 8, Arboga    Arboga   \n",
       "4  66.052216,17.893128  Tingsbacka, Storgatan 20   , Arjeplog  Arjeplog   \n",
       "\n",
       "                                            services  \n",
       "0  [{'name': 'Anmälan'}, {'name': 'Cyklar'}, {'na...  \n",
       "1       [{'name': 'Anmälan'}, {'name': 'Hittegods'}]  \n",
       "2       [{'name': 'Anmälan'}, {'name': 'Hittegods'}]  \n",
       "3  [{'name': 'Anmälan'}, {'name': 'Hittegods'}, {...  \n",
       "4  [{'name': 'Anmälan'}, {'name': 'Cyklar'}, {'na...  "
      ]
     },
     "execution_count": 5,
     "metadata": {},
     "output_type": "execute_result"
    }
   ],
   "source": [
    "dfPolisStations.head()"
   ]
  },
  {
   "cell_type": "code",
   "execution_count": 6,
   "metadata": {},
   "outputs": [],
   "source": [
    "dfPolisStations[['Latitude', 'Longitude']] = dfPolisStations['location.gps'].str.split(\",\", expand=True)"
   ]
  },
  {
   "cell_type": "code",
   "execution_count": 7,
   "metadata": {},
   "outputs": [],
   "source": [
    "from geojson import Point "
   ]
  },
  {
   "cell_type": "code",
   "execution_count": 8,
   "metadata": {},
   "outputs": [],
   "source": [
    "# Convert a pandas dataframe to geojson\n",
    "geojson = {'type':'FeatureCollection', 'features':[]}\n",
    "for i, row in enumerate(dfPolisStations.values):\n",
    "    features = []\n",
    "    #print(dfPolisStations.Latitude[i],dfPolisStations.Longitude[i],dfPolisStations.name[i])\n",
    "    feature = {'type':'Feature', 'properties':{},'geometry':{'type':'Point','coordinates':[]}}   \n",
    "    # fill in the coordinates\n",
    "    feature['geometry']['coordinates'] = [dfPolisStations.Longitude[i],dfPolisStations.Latitude[i]]\n",
    "    feature['properties']['name'] = dfPolisStations.name[i]\n",
    "        \n",
    "    # add this feature to the list of features inside our dict\n",
    "    geojson['features'].append(feature)\n",
    "#print(json.dumps(geojson, indent=2))"
   ]
  },
  {
   "cell_type": "code",
   "execution_count": 9,
   "metadata": {},
   "outputs": [
    {
     "data": {
      "application/vnd.jupyter.widget-view+json": {
       "model_id": "2c2128ca51de4de09642fffd5d4c92b7",
       "version_major": 2,
       "version_minor": 0
      },
      "text/plain": [
       "Map(basemap={'url': 'http://stamen-tiles-a.a.ssl.fastly.net/terrain/{z}/{x}/{y}.png', 'attribution': 'Map tile…"
      ]
     },
     "metadata": {},
     "output_type": "display_data"
    }
   ],
   "source": [
    "from ipyleaflet import Map, basemaps, WidgetControl, Marker\n",
    "from ipywidgets import  link\n",
    "m = Map(center=(63, 14), zoom=4, basemap=basemaps.Stamen.Terrain)\n",
    "m"
   ]
  },
  {
   "cell_type": "code",
   "execution_count": 10,
   "metadata": {},
   "outputs": [],
   "source": [
    "#Add geoJSON as a layer\n",
    "from ipyleaflet import GeoJSON\n",
    "geo_json = GeoJSON(data=geojson, style = {'color': 'green', 'opacity':1, 'weight':1.9, 'dashArray':'9', 'fillOpacity':0.1})\n",
    "m.add_layer(geo_json)\n",
    "\n"
   ]
  },
  {
   "cell_type": "code",
   "execution_count": 11,
   "metadata": {},
   "outputs": [],
   "source": [
    "# Put a FullScreenContrl on the map\n",
    "from ipyleaflet import Map, FullScreenControl\n",
    "m.add_control(FullScreenControl())"
   ]
  },
  {
   "cell_type": "code",
   "execution_count": 12,
   "metadata": {},
   "outputs": [],
   "source": [
    "from ipyleaflet import Map, basemaps, WidgetControl\n",
    "from ipywidgets import  link\n",
    "minimap = Map(\n",
    "    zoom_control=False, attribution_control=False, \n",
    "    zoom=5, center=m.center\n",
    ")\n",
    "minimap.layout.width = '150px'\n",
    "minimap.layout.height = '150px'\n",
    "link((minimap, 'center'), (m, 'center'))\n",
    "minimap_control = WidgetControl(widget=minimap, position='bottomleft')\n",
    "m.add_control(minimap_control)"
   ]
  },
  {
   "cell_type": "code",
   "execution_count": null,
   "metadata": {},
   "outputs": [],
   "source": []
  }
 ],
 "metadata": {
  "kernelspec": {
   "display_name": "Python 3",
   "language": "python",
   "name": "python3"
  },
  "language_info": {
   "codemirror_mode": {
    "name": "ipython",
    "version": 3
   },
   "file_extension": ".py",
   "mimetype": "text/x-python",
   "name": "python",
   "nbconvert_exporter": "python",
   "pygments_lexer": "ipython3",
   "version": "3.7.2"
  }
 },
 "nbformat": 4,
 "nbformat_minor": 2
}
